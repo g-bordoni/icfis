{
 "cells": [
  {
   "cell_type": "markdown",
   "metadata": {},
   "source": [
    "# Introdução à Programação em Física\n",
    "# Prova 1\n",
    "\n",
    "### Professor: Gustavo Guerrero"
   ]
  },
  {
   "cell_type": "markdown",
   "metadata": {},
   "source": [
    "### Alunos:\n",
    "1. \n",
    "2. "
   ]
  },
  {
   "cell_type": "markdown",
   "metadata": {},
   "source": [
    "Crie células abaixo de cada pergunta e responda sequencialmente."
   ]
  },
  {
   "cell_type": "markdown",
   "metadata": {},
   "source": [
    "**1.** Escreeva em formato de `LaTeX` as equações (9.5) -  (9.8) do livro Lições de Física do Feynmann. "
   ]
  },
  {
   "cell_type": "markdown",
   "metadata": {},
   "source": [
    "**2.** Utilizando as equações (9.16) reproduça os resultados da tabela 9.1 para a posição, a velocidade e a aceleração.  Para isso utilize estruturas de controle (e.g., `for`, `while`, `if`) e as funções de `numpy` para armazenar as variáveis como vetores. "
   ]
  },
  {
   "cell_type": "markdown",
   "metadata": {},
   "source": [
    "**3.** Com os vetores encontrados no ponto **2** reproduça a Figura 9.4. *Importante*: A figura deve ter título e nome nos eixos, os dados devem ser apresentados com linha e pontos."
   ]
  },
  {
   "cell_type": "markdown",
   "metadata": {},
   "source": [
    "**4.** Utilizando as equações (9.17), reproduça so resultados ta tabela 9.2 para posição, velocidade e aceleração nas direções $x$ e $y$, calcule $r$ e $1/r^3$. Lembrese de facilitar seus cálculos fazendo $GM = 1$. As condições iniciais estão no texto e no cabeçalho da tabela 9.2."
   ]
  },
  {
   "cell_type": "markdown",
   "metadata": {},
   "source": [
    "**5.** Utilizando os resultados do ponto **4**, grafique a orbita do planeta em torno do sol (Figura 9.6). "
   ]
  },
  {
   "cell_type": "code",
   "execution_count": null,
   "metadata": {},
   "outputs": [],
   "source": []
  }
 ],
 "metadata": {
  "kernelspec": {
   "display_name": "Python 3",
   "language": "python",
   "name": "python3"
  },
  "language_info": {
   "codemirror_mode": {
    "name": "ipython",
    "version": 3
   },
   "file_extension": ".py",
   "mimetype": "text/x-python",
   "name": "python",
   "nbconvert_exporter": "python",
   "pygments_lexer": "ipython3",
   "version": "3.5.3"
  }
 },
 "nbformat": 4,
 "nbformat_minor": 2
}
