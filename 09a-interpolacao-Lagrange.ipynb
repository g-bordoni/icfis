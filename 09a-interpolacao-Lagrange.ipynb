{
 "cells": [
  {
   "cell_type": "code",
   "execution_count": 3,
   "metadata": {},
   "outputs": [
    {
     "data": {
      "application/javascript": [
       "MathJax.Hub.Config({\n",
       "    TeX: { equationNumbers: { autoNumber: \"AMS\" } }\n",
       "});"
      ],
      "text/plain": [
       "<IPython.core.display.Javascript object>"
      ]
     },
     "metadata": {},
     "output_type": "display_data"
    }
   ],
   "source": [
    "%%javascript\n",
    "MathJax.Hub.Config({\n",
    "    TeX: { equationNumbers: { autoNumber: \"AMS\" } }\n",
    "});"
   ]
  },
  {
   "cell_type": "markdown",
   "metadata": {},
   "source": [
    "# Interpolação e extrapolação\n",
    "\n",
    "Como resultado de experimentos ou simulações, as vezes temos um conjunto de pontos na forma:\n",
    "\n",
    "\\begin{equation}\n",
    "data = \\left((x_0,f(x_0)),(x_1,f(x_1)),\\ldots,(x_n,f(y_n))\\right)\n",
    "\\end{equation}\n",
    "\n",
    "mas não temos uma expresão, $f(x)$ que nos permita calcular o valor da função em qualquer ponto arbitrario $x$. Muitas vezes os $x_i$ são igualmente espaçados, mas nem sempre.\n",
    "\n",
    "Nossa tarefa é estimar essa função, $f(x)$ trazando uma curva suave a traves de todos, e quizas ultrapassando, os valores de $x$. Se o $x$ desejado se encontra entre o mínimo e o máximo dos dados, o problema é chamado *interpolação*. Se o $x$ está fora dos nossos dados o problema é chamado extrapolação.\n",
    "\n",
    "Os dois problemas devem representar essa função com uma forma funcional que seja o mais geral possível. As formas funcionais mais comúns são os *polinomios*. Funções trigonométricas, senos e cosenos, também permitem fazer interpolação como os chamados métodos de Fourier que estudaremos em outro capítulo.  Nos casos onde a conservação da continuidade das derivadas é necessário, utilizam-se métodos *splines*. O mais conhecido desses métodos é o de *splines* cúbicos. \n",
    "\n",
    "Conceitualmente o processo da interpolação tem dois etapas: (1) ajustar uma função aos dados e (2) avaliar essa função ao ponto arbitrario $x$.   O número de pontos usado para realizar a interpolação representa a **ordem** da interpolação. \n",
    "\n",
    "\n",
    "Nesse capítulo vamos descrever em detalhe os métodos polinomial e de *splines* cubico.  As rotinas de interpolação são também rutinas de extrapolação, que no entanto, devem ser consideradas com muito cuidado. \n",
    "\n",
    "\n",
    "## a) Interpolação e extrapolação polinomial\n",
    "\n",
    "Asumindo que temos um conjunto de $N+1$ pontos, queremos determinar um polinomio de grau N, tal que\n",
    "\n",
    "\\begin{equation}\n",
    "P_N(x_i) = f(x_i) = y_i  \\;\\;, i = 0,1, \\ldots , N \\;.\n",
    "\\end{equation}\n",
    "\n",
    "Se escrevemos $P_N$ da forma:\n",
    "\n",
    "\\begin{equation}\n",
    "P_N(x) = a_0 + a_1 (x-x_0) + a_2 (x-x_0)(x-x_1) + \\ldots + a_N (x-x_0) \\ldots (x-x_{N-1}) \\;,\n",
    "\\end{equation}\n",
    "\n",
    "\n",
    "Então a equação acima resulta num sistema triangular de equações:\n",
    "\n",
    "\\begin{eqnarray}\n",
    "a_0 &=& f(x_0) \\\\\\nonumber\n",
    "a_0 + a_1 (x_1-x_0) &=& f(x_1) \\\\\\nonumber\n",
    "a_0 + a_1 (x_2-x_0) + a_2 (x_2-x_0)(x_2-x_1) &=& f(x_2) \\\\\\nonumber\n",
    "\\ldots \\; \\ldots \\; \\ldots\n",
    "\\end{eqnarray}\n",
    "\n",
    "Os coeficientes $a_0, \\ldots, a_N$ podem ser determinados de forma recursiva, começando por $a_0$, depois $a_1$ e assim por diante. \n",
    "\n",
    "Por exemplo, se temos unicamente dois pontos (uma linha reta), então o polinomio ficara:\n",
    "\n",
    "\\begin{equation}\n",
    "P_1(x) =  \\frac{x - x_0}{x_1 - x_0} y_1 + \\frac{x - x_1}{x_0 - x_1} y_0\n",
    "\\end{equation}\n",
    "\n",
    "e com 3 pontos (aproximação parabólica) temos:\n",
    "\n",
    "\\begin{equation}\n",
    "P_1(x) =  \\frac{(x - x_0)(x-x_1)}{(x_2 - x_0)(x_2 - x_1)} y_2 \n",
    "       + \\frac{(x - x_0)(x-x_2)}{(x_1 - x_0)(x_1-x_2)} y_1 \n",
    "       + \\frac{(x - x_1)(x-x_2)}{(x_0 - x_1)(x_0-x_2)} y_0 \n",
    "\\end{equation}\n",
    "\n",
    "A fórmula clásica da simplifica a interpolação foi criada por Lagrange e é dada por:\n",
    "\n",
    "\\begin{equation}\n",
    "P_N(x) =  \\sum_{i=0}^N y_i\\left(\\prod_{k \\neq i} \\frac{x-x_k}{x_i-x_k} \\right)\n",
    "\\end{equation}\n",
    "\n",
    "\n",
    "E assim sucessivamente. Da equação acima é possivel ver que quando $x=x_i$, temos que $f(x) = f(x_i)$. \n",
    "\n"
   ]
  },
  {
   "cell_type": "markdown",
   "metadata": {},
   "source": [
    "### Algoritmo de Neville\n",
    "\n",
    "\n",
    "\n",
    "É possível resolver numericamente a equação (7) para encontrar coeficientes e o polinomio que interpola os pontos conhecidos. Porém o programa resultante não prove indicativos do erro. Um método muito melhor é o chamado *algoritmo de Neville*. \n",
    "\n",
    "* Seja $P_0$ o valor em $x$ de um polinomio de grau zero (uma constante) que passa a traves dos pontos $(x_0,y_0)$, ou seja, $P_0 = y_0$.  Da mesma forma definimos $P_1$, $P_2$, $\\ldots , P_n$ (lembrese que n = N-1).  \n",
    "\n",
    "* Seja $P_{01}$ o valor de $x$ do unico polinomio de grau 1 passando pelos pontos $(x_0,y_0)$ e $(x_1,y_1)$ (uma linha reta).  Da mesma forma encontramos $P_{12}$, $P_{23}$, $\\ldots \\; P_{(n-1)n}$.  \n",
    "\n",
    "* Fazemos o mesmo para ordens maiores até encontrar o polinomio $P_{0123 \\ldots n}$, que é o valor do polinomio interpolante que passa por todos os $n$ pontos. Ou seja, a nossa resposta. \n",
    "\n",
    "Os varios $P_{\\prime s}$ formam uma árbore com parentes à esquerda e deixando à direita um unico descendente. Por exemplo, se temos 4 pontos, $n=3$: \n",
    "\n",
    "\n",
    "\\begin{matrix}\n",
    "x_0: \\; y_0 = P_0 &               &           & \\\\\n",
    "                 &  P_{01}  &                 & \\\\\n",
    "x_1: \\; y_1 = P_1 &               &  P_{012}  & \\\\\n",
    "                 &  P_{12}  &                 & P_{0123}    \\\\\n",
    "x_2: \\; y_2 + P_2 &               &  P_{123}  & \\\\\n",
    "                 &  P_{23}  &                 & \\\\\n",
    "x_3: \\; y_3 = P_3&               &            & \\\\           \n",
    "\\end{matrix}\n",
    "\n",
    "Existe uma relação de recurrencia que permite encontrar os polinomios de cada \"geração\" como função dos \"parentes\" mais próximos:\n",
    "\n",
    "\\begin{eqnarray}\n",
    "P_{ii} &=& y_i \\hspace{7 cm} {\\rm para} \\; 0 \\le i \\le n \\\\\\nonumber\n",
    "P_{ij} &=& \\frac{(x-x_j) P_{i,j-1}   - (x - x_i) P_{i+1,j}}{x_i - x_j} \\hspace{1.3cm} {\\rm para} \\; 0 \\le i \\le k \\le n\n",
    "\\end{eqnarray}\n",
    "\n",
    "Com a qual a àrbore acima ficaria:\n",
    "\n",
    "\\begin{matrix}\n",
    "x_0: \\; y_0 = P_{00} &               &           & \\\\\n",
    "                 &  P_{01}  &                 & \\\\\n",
    "x_1: \\; y_1 = P_{11} &               &  P_{02}  & \\\\\n",
    "                 &  P_{12}  &                 & P_{03}    \\\\\n",
    "x_2: \\; y_2 + P_{22} &               &  P_{13}  & \\\\\n",
    "                 &  P_{23}  &                 & \\\\\n",
    "x_3: \\; y_3 = P_{33}&               &            & \\\\           \n",
    "\\end{matrix}\n",
    "\n",
    "Uma melhora do algoritmo de Neville é contabilizar as pequenas diferencas entre parentes e filhos, ou seja, para cada filho, existirão duas diferenças:\n",
    "\n",
    "\\begin{eqnarray}\n",
    "C_{i,j+1} &=& P_{i,j+1} - P_{i,j} \\\\\\nonumber\n",
    "D_{i,j+1} &=& P_{i,j+1} - P_{i+1,j+1}\n",
    "\\end{eqnarray}\n",
    "\n",
    "Depois de substituir em (1), obtemos:\n",
    "\n",
    "\\begin{eqnarray}\n",
    "D_{i,j} &=& \\frac{(x_j - x) (C_{i+1,j+1} - D_{i,j+1})}{x_i-x_j} \\\\\\nonumber\n",
    "C_{i,j} &=& \\frac{(x_i - x) (C_{i+1,j+1} - D_{i,j+1})}{x_i-x_j}\n",
    "\\end{eqnarray}\n",
    "\n",
    "A cada nível $m$, os valores de $C$ e $D$ são correções que levam a interpolação a uma ordem maior. O resultado final é a soma de todos os $C's$ e/ou $D's$ que formam o caminho atraves da árbore até o ponto mais à direita. O seguinte algorítmo considera essa implementação do metodo de Neville. "
   ]
  },
  {
   "cell_type": "code",
   "execution_count": 1,
   "metadata": {},
   "outputs": [],
   "source": [
    "import numpy as np\n",
    "import matplotlib.pylab as plt"
   ]
  },
  {
   "cell_type": "code",
   "execution_count": 2,
   "metadata": {},
   "outputs": [],
   "source": [
    "# Neville Algorithm:\n",
    "#\n",
    "# O algoritmo tem 3 partes, \n",
    "# Na primeira encontra o indice mais proximo do\n",
    "# valor de x onde se quer estimar f(x)\n",
    "def polint(xa,ya,x):\n",
    "    n = xa.size\n",
    "    c = np.copy(ya)\n",
    "    d = np.copy(ya)\n",
    "    ns=1\n",
    "    dy = 0.\n",
    "    # dif eh a diferenca do valor de entrada x com o primeiro valor \n",
    "    # de nossos dados xa[0]\n",
    "    # dift eh um array, com a diferenca entre x e cada um dos xa\n",
    "    dif = abs(x - xa[0])\n",
    "    dift = np.abs(x - xa)\n",
    "    for i in range (n):\n",
    "        if (dift[i] < dif):\n",
    "            ns = i\n",
    "            dif = dift[i]\n",
    "    # depois desse loop ns é o índice de xa mais próximo de x\n",
    "    # ya é o valor de ya nesse indice\n",
    "    y = ya[ns]\n",
    "    ns = ns-1\n",
    "    \n",
    "    # Segunda parte: calcula os polinomios C e D de esquerda \n",
    "    # a direita, no loop mais externo m vai desde o primeiro ponto, m=0\n",
    "    # até o penultimo ponto n-2\n",
    "    for m in range(n-1):\n",
    "        # o loop interno inicialmente tem n-1 elementos\n",
    "        # esse número vai diminuindo em 1 a cada iteracao\n",
    "        for i in range(0,(n-m-1)):\n",
    "            ho = xa[i] - x\n",
    "            hp = xa[i+m+1] - x\n",
    "            w = c[i+1]-d[i]\n",
    "            den = ho - hp\n",
    "            if (den == 0):\n",
    "                print('Error, den=0')\n",
    "                break\n",
    "            den = w/den\n",
    "            d[i] = hp*den\n",
    "            c[i] = ho*den\n",
    "                \n",
    "        #Terceira parte: Escolhemos o caminho pelo qual o erro é \n",
    "        # mínimo. \n",
    "        if (2*ns < n-m-2):\n",
    "            dy = c[ns+1]\n",
    "        else:\n",
    "            dy = d[ns]\n",
    "            ns = ns-1\n",
    "        y = y+dy\n",
    "    return y, dy"
   ]
  },
  {
   "cell_type": "code",
   "execution_count": 3,
   "metadata": {},
   "outputs": [],
   "source": [
    "# Criamos alguns POUCOS valores de x\n",
    "# e seus correspondentes valores de y\n",
    "xb = np.linspace(0.,np.pi,5)\n",
    "yb = np.sin(xb)\n",
    "\n",
    "\n",
    "# Criamos valores de x para os quais não conhecemos os valores de y\n",
    "# e chamamos a funcao polint para cada ponto x\n",
    "N = 32\n",
    "x = np.linspace(0.,np.pi,N)\n",
    "f = np.zeros_like(x)\n",
    "err = np.zeros_like(x)\n",
    "for k in range(N):\n",
    "    f[k], err[k] = polint(xb,yb,x[k])"
   ]
  },
  {
   "cell_type": "code",
   "execution_count": 4,
   "metadata": {},
   "outputs": [
    {
     "data": {
      "image/png": "[encoded data removed]",
      "text/plain": [
       "<Figure size 432x288 with 1 Axes>"
      ]
     },
     "metadata": {
      "needs_background": "light"
     },
     "output_type": "display_data"
    }
   ],
   "source": [
    "plt.plot(xb,yb,'*', label='valoes conhecidos')\n",
    "plt.plot(x,f, '-', lw=2, label='pontos interpolados')\n",
    "plt.xlabel('x')\n",
    "plt.legend()\n",
    "plt.grid()"
   ]
  },
  {
   "cell_type": "code",
   "execution_count": 5,
   "metadata": {},
   "outputs": [
    {
     "data": {
      "image/png": "[encoded data removed]",
      "text/plain": [
       "<Figure size 432x288 with 1 Axes>"
      ]
     },
     "metadata": {
      "needs_background": "light"
     },
     "output_type": "display_data"
    }
   ],
   "source": [
    "plt.plot(x,err, '-', lw=2)\n",
    "plt.xlabel('x')\n",
    "plt.ylabel('erro')\n",
    "plt.grid()"
   ]
  },
  {
   "cell_type": "code",
   "execution_count": 138,
   "metadata": {},
   "outputs": [
    {
     "name": "stdout",
     "output_type": "stream",
     "text": [
      "0 0 1\n",
      "0 1 2\n",
      "0 2 3\n",
      "0 3 4\n",
      "1 0 2\n",
      "1 1 3\n",
      "1 2 4\n",
      "2 0 3\n",
      "2 1 4\n",
      "3 0 4\n"
     ]
    }
   ],
   "source": [
    "n=5\n",
    "for m in range(n-1):\n",
    "    for i in range(0,(n-m-1)):\n",
    "        print(m,i,i+m+1)"
   ]
  },
  {
   "cell_type": "markdown",
   "metadata": {},
   "source": [
    "\n"
   ]
  },
  {
   "cell_type": "code",
   "execution_count": null,
   "metadata": {},
   "outputs": [],
   "source": []
  }
 ],
 "metadata": {
  "kernelspec": {
   "display_name": "Python 3",
   "language": "python",
   "name": "python3"
  },
  "language_info": {
   "codemirror_mode": {
    "name": "ipython",
    "version": 3
   },
   "file_extension": ".py",
   "mimetype": "text/x-python",
   "name": "python",
   "nbconvert_exporter": "python",
   "pygments_lexer": "ipython3",
   "version": "3.5.3"
  }
 },
 "nbformat": 4,
 "nbformat_minor": 2
}
