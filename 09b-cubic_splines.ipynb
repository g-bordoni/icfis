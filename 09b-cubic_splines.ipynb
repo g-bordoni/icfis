{
 "cells": [
  {
   "cell_type": "markdown",
   "metadata": {},
   "source": [
    "## b) Interpolação por trazadores cúbicos (*cubic splines*)\n",
    "\n",
    "\n",
    "Permite encontrar valores intermediarios em um conjunto de dados usando polinomios cubicos.\n",
    "\n",
    "Assuma que temos $n+1$ pontos, $x_0, x_1,..., x_n$, tal que $x_0 < x_1 <...<  x_n$.\n",
    "\n",
    "Uma função *spline*, $s$ de ordem $k$, com $n+1$ pontos é definida como:  \n",
    "\n",
    "* Em cada sub-intervalo $[ x_{i-1}, x_i )$, $s$ é um polinomio de grau $k$.\n",
    "\n",
    "* $s$ têm $k-1$ derivadas continuas no intervalo total $[x_{0}, x_n]$.\n",
    "\n",
    "\n",
    "A função *spline* mais comum é aquela com $k=3$, ou *spline* cúbico.\n",
    "\n",
    "Se alem dos $n+1$  pontos temos os valores da função $y_0 = f(x_0), y_1 = f(x_1), ..., y_n = f(x_n)$.\n",
    "Por definição, os polinomios devem interpolar o mesmo ponto:\n",
    "\n",
    "$$\n",
    "s_{i-1}(x_i) = y_i = s_i(x_i) \\;,\n",
    "$$\n",
    "\n",
    "Com $1\\le i \\le n-1$. No total temos $n$ polinomios do tipo:\n",
    "\n",
    "$$\n",
    "s_{i}(x) = a_{i0} + a_{i1}x + a_{i2} x^2 + a_{i3} x^3 \\;,\n",
    "$$\n",
    "\n",
    "o que implica que teremos ${\\bf 4n}$ coeficientes para determinar. Cada sub-intervalo possui duas\n",
    "condições:\n",
    "\n",
    "$$\n",
    "y_i = s(x_i) \\; \\;{\\rm e} \\; \\;   y_{i+1} = s(x_{i+1}) \\;,\n",
    "$$\n",
    "\n",
    "que devem ser satisfeitas.\n",
    "\n",
    "Já que $s'$ e $s''$ são continuas, temos:\n",
    "\n",
    "$$\n",
    "s'_{i-1}(x_i) = s'_i(x_i) \\;\\;, {\\rm e }\\;\\; s''_{i-1}(x_i) = s''_i(x_i)\n",
    "$$\n",
    "\n",
    "proporcionando $n-1$ e $n-1$ condições, respetivamente. No total temos $4n$ coeficientes\n",
    "e $4n-2$ equações, precisamos ainda determinar $2$ graus de liberdade.\n",
    "\n",
    "Partindo da ultima equação definimos dois valores para a segunda derivada:\n",
    "\n",
    "$$\n",
    "s''_{i}(x_i) = f_i \\;\\;, {\\rm e }\\;\\; s''_{i}(x_{i+1}) = f_{i+1}\n",
    "$$\n",
    "\n",
    "\n",
    "Uma linha reta entre os pontos $f_i$ e $f_{i+1}$ é:\n",
    "\n",
    "$$\n",
    "s''_{i}(x) = \\frac{f_i}{x_{i+1} - x_i}(x_{i+1} - x) + \\frac{f_{i+1}}{x_{i+1} - x_i}(x - x_i)\n",
    "$$\n",
    "\n",
    "e integrando duas vezes temos:\n",
    "\n",
    "$$\n",
    "s_i(x) = \\frac{f_i}{6(x_{i+1}-x_i)}(x_{i+1}-x)^3+\n",
    "               \\frac{f_{i+1}}{6(x_{i+1}-x_i)}(x-x_i)^3\n",
    "             +c(x-x_i)+d(x_{i+1}-x).\n",
    "$$\n",
    "\n",
    "Usando as condições  $s_i(x_i)=y_i$ e $s_i(x_{i+1})=y_{i+1}$ \n",
    "podemos de fato determinar as constantes $c$ e $d$ o que resulta em\n",
    "\n",
    "\n",
    "\\begin{eqnarray} \n",
    "s_i(x) &=& \\frac{f_i}{6(x_{i+1}-x_i)}(x_{i+1}-x)^3+\n",
    "               \\frac{f_{i+1}}{6(x_{i+1}-x_i)}(x-x_i)^3 \\\\\\nonumber\n",
    "       &+& (\\frac{y_{i+1}}{x_{i+1}-x_i}-\\frac{f_{i+1}(x_{i+1}-x_i)}{6})\n",
    "              (x-x_i)+\n",
    "             (\\frac{y_{i}}{x_{i+1}-x_i}-\\frac{f_{i}(x_{i+1}-x_i)}{6})\n",
    "             (x_{i+1}-x).\n",
    "\\end{eqnarray}\n",
    "\n",
    "Mas como determinamos as segundas derivadas $f_i$ e $f_{i+1}$? Usando a condição de continuidade para\n",
    "a primeira derivada:\n",
    "\n",
    "$$\n",
    "s'_{i-1}(x_i) = s'_i(x_i) \\;\\;,\n",
    "$$\n",
    "\n",
    "e fazendo $x=x_i$.  Definindo $h = x_{i+1} - x_i$, obtemos a seguinte expressão:\n",
    "\n",
    "$$\n",
    "h_{i-1}f_{i-1}+2(h_{i}+h_{i-1})f_i+h_if_{i+1}=\n",
    "   \\frac{6}{h_i}(y_{i+1}-y_i)-\\frac{6}{h_{i-1}}(y_{i}-y_{i-1}),\n",
    "$$\n",
    "\n",
    "Finalmente fazemos a mudança de viriável: $u_i = 2(h_i + h_{i-1})$,\n",
    "$\\nu_i = \\frac{6}{h_i} (y_{i+1} - y_i) - \\frac{6}{h_{i-1}} (y_i - y_{i-1})$,\n",
    "podemos re-escrever o problema como um conjunto de equações que pode ser resolvido usando\n",
    "algebra matricial. Para o caso, pela forma da matriz precisamos de um algoritmo que\n",
    "resolva matrizes tridiagonais.\n",
    "\n",
    "$$\n",
    "\\begin{bmatrix} u_1 & h_1 &0 &\\dots & & & & \\\\\n",
    "                                 h_1 & u_2 & h_2 &0 &\\dots & & & \\\\\n",
    "                                  0   & h_2 & u_3 & h_3 &0 &\\dots & & \\\\\n",
    "                               \\dots& & \\dots &\\dots &\\dots &\\dots &\\dots & \\\\\n",
    "                                 &\\dots & & &0 &h_{n-3} &u_{n-2} &h_{n-2} \\\\\n",
    "                                 & && & &0 &h_{n-2} &u_{n-1} \\end{bmatrix}\n",
    "   \\begin{bmatrix} f_1 \\\\ \n",
    "                          f_2 \\\\\n",
    "                          f_3\\\\\n",
    "                          \\dots \\\\\n",
    "                          f_{n-2} \\\\ \n",
    "                          f_{n-1} \\end{bmatrix} =\n",
    "   \\begin{bmatrix} v_1 \\\\ \n",
    "                          v_2 \\\\\n",
    "                          v_3\\\\\n",
    "                          \\dots \\\\\n",
    "                          v_{n-2}\\\\\n",
    "                          v_{n-1} \\end{bmatrix}.\n",
    "$$\n",
    "\n",
    "Essa matriz resolve um sistema tridiagonal de equações, ou seja, so as 3 diagonais principais tem elementos. Esse sistema pode ser resolvido por substituição. Como sistemas desse tipo aparecem com frequência em problemas numéricos, existem rotinas sofisticadas para resolve-los.  Usaremos a rotina `tridiag.py`. "
   ]
  },
  {
   "cell_type": "markdown",
   "metadata": {},
   "source": [
    "## Rotina para calcular splines em fortran90\n",
    "\n",
    "Vamos utilizar a rotina `spline.90` escrita em fortran 90 para fazer interpolação de splines cubicos.\n",
    "\n",
    "* Fazendo isso aprendemos a utilizar, compilar e executar, código diferente a python em `Jupyter`\n",
    "* E aprendemos a criar modulos criados nesses outros programas dentro do python, o qual se traduz em eficiencia do código "
   ]
  },
  {
   "cell_type": "code",
   "execution_count": 100,
   "metadata": {},
   "outputs": [
    {
     "name": "stdout",
     "output_type": "stream",
     "text": [
      "Overwriting spline.f90\n"
     ]
    }
   ],
   "source": [
    "%%file spline.f90\n",
    "\n",
    "MODULE constantes\n",
    "  ! definicao de variaveis para precisao dupla\n",
    "  INTEGER,  PARAMETER :: dp = KIND(1.0D0)\n",
    "  INTEGER, PARAMETER :: dpc = KIND((1.0D0,1.0D0))\n",
    "  ! Parametro de truncamento\n",
    "  REAL(DP), PARAMETER, PUBLIC ::  truncamento=1.0E-10\n",
    "END MODULE constantes\n",
    "\n",
    "  ! takes as input x[1,..,n] and y[1,..,n] containing a tabulation\n",
    "  ! y_i = f(x_i) with x_0 < x_1 < .. < x_(n - 1) \n",
    "  ! together with yp_1 and yp2 for first derivatives  f(x) at x_0 \n",
    "  ! and x_(n-1), respectively. Then the\n",
    "  ! function returns y2[1,..,n] which contains the second \n",
    "  ! derivatives of f(x_i)at each point x_i. If yp1 and/or yp2 \n",
    "  ! is larger than the constant INFINITY the function will \n",
    "  ! put corresponding second derivatives to zero.\n",
    "\n",
    "  SUBROUTINE spline(x,y,n,yp1,ypn,y2)\n",
    "    USE constantes\n",
    "    IMPLICIT NONE\n",
    "    INTEGER :: i, k, n\n",
    "    REAL(DP), DIMENSION(n) :: x, y, y2\n",
    "    REAL(DP), DIMENSION(:), ALLOCATABLE :: u\n",
    "    REAL(DP) :: p, qn, sig, un, ypn, yp1 \n",
    "\n",
    "    ALLOCATE ( u (n) )\n",
    "    IF (yp1 > .99E30) THEN\n",
    "       y2(1)=0.\n",
    "       u(1)=0.\n",
    "    ELSE\n",
    "       y2(1)=-0.5\n",
    "       u(1)=(3./(x(2)-x(1)))*((y(2)-y(1))/(x(2)-x(1))-yp1)\n",
    "    ENDIF\n",
    "    DO i=2,n-1\n",
    "       sig=(x(i)-x(i-1))/(x(i+1)-x(i-1))\n",
    "       p=sig*y2(i-1)+2.\n",
    "       y2(i)=(sig-1.)/p\n",
    "       u(i)=(6.*((y(i+1)-y(i))/(x(i+1)-x(i))-(y(i)-y(i-1)) &\n",
    "            /(x(i)-x(i-1)))/(x(i+1)-x(i-1))-sig*u(i-1))/p\n",
    "    ENDDO\n",
    "    IF (ypn > .99E30) THEN\n",
    "       qn=0.\n",
    "       un=0.\n",
    "    ELSE\n",
    "       qn=0.5\n",
    "       un=(3./(x(n)-x(n-1)))*(ypn-(y(n)-y(n-1))/(x(n)-x(n-1)))\n",
    "    ENDIF\n",
    "    y2(n)=(un-qn*u(n-1))/(qn*y2(n-1)+1.)\n",
    "    DO k=n-1,1,-1\n",
    "       y2(k)=y2(k)*y2(k+1)+u(k)\n",
    "    ENDDO\n",
    "    DEALLOCATE ( u )\n",
    "\n",
    "  END SUBROUTINE spline"
   ]
  },
  {
   "cell_type": "code",
   "execution_count": 101,
   "metadata": {},
   "outputs": [
    {
     "name": "stdout",
     "output_type": "stream",
     "text": [
      "rm: cannot remove 'cs.pyf': No such file or directory\n",
      "Reading fortran codes...\n",
      "\tReading file 'spline.f90' (format:free)\n",
      "Post-processing...\n",
      "\tBlock: spline\n",
      "\t\t\tBlock: constantes\n",
      "\t\t\tBlock: spline\n",
      "Post-processing (stage 2)...\n",
      "\tBlock: spline\n",
      "\t\tBlock: unknown_interface\n",
      "\t\t\tBlock: constantes\n",
      "\t\t\tBlock: spline\n",
      "Saving signatures to file \"./spline.pyf\"\n"
     ]
    }
   ],
   "source": [
    "!rm spline.pyf\n",
    "!f2py -m spline -h spline.pyf spline.f90"
   ]
  },
  {
   "cell_type": "code",
   "execution_count": 102,
   "metadata": {},
   "outputs": [
    {
     "name": "stdout",
     "output_type": "stream",
     "text": [
      "\u001b[39mrunning build\u001b[0m\n",
      "\u001b[39mrunning config_cc\u001b[0m\n",
      "\u001b[39munifing config_cc, config, build_clib, build_ext, build commands --compiler options\u001b[0m\n",
      "\u001b[39mrunning config_fc\u001b[0m\n",
      "\u001b[39munifing config_fc, config, build_clib, build_ext, build commands --fcompiler options\u001b[0m\n",
      "\u001b[39mrunning build_src\u001b[0m\n",
      "\u001b[39mbuild_src\u001b[0m\n",
      "\u001b[39mbuilding extension \"spline\" sources\u001b[0m\n",
      "\u001b[39mcreating /tmp/tmpd8xy5z0d/src.linux-x86_64-3.5\u001b[0m\n",
      "\u001b[39mf2py options: []\u001b[0m\n",
      "\u001b[39mf2py: spline.pyf\u001b[0m\n",
      "Reading fortran codes...\n",
      "\tReading file 'spline.pyf' (format:free)\n",
      "Post-processing...\n",
      "\tBlock: spline\n",
      "\t\t\tBlock: constantes\n",
      "\t\t\tBlock: spline\n",
      "Post-processing (stage 2)...\n",
      "\tBlock: spline\n",
      "\t\tBlock: unknown_interface\n",
      "\t\t\tBlock: constantes\n",
      "\t\t\tBlock: spline\n",
      "Building modules...\n",
      "\tBuilding module \"spline\"...\n",
      "\t\tConstructing wrapper function \"spline\"...\n",
      "\t\t  spline(x,y,yp1,ypn,y2,[n])\n",
      "\t\tConstructing F90 module support for \"constantes\"...\n",
      "\t\t  Variables: dp truncamento dpc\n",
      "\tWrote C/API module \"spline\" to file \"/tmp/tmpd8xy5z0d/src.linux-x86_64-3.5/splinemodule.c\"\n",
      "\tFortran 90 wrappers are saved to \"/tmp/tmpd8xy5z0d/src.linux-x86_64-3.5/spline-f2pywrappers2.f90\"\n",
      "\u001b[39m  adding '/tmp/tmpd8xy5z0d/src.linux-x86_64-3.5/fortranobject.c' to sources.\u001b[0m\n",
      "\u001b[39m  adding '/tmp/tmpd8xy5z0d/src.linux-x86_64-3.5' to include_dirs.\u001b[0m\n",
      "\u001b[39mcopying /usr/local/lib/python3.5/dist-packages/numpy/f2py/src/fortranobject.c -> /tmp/tmpd8xy5z0d/src.linux-x86_64-3.5\u001b[0m\n",
      "\u001b[39mcopying /usr/local/lib/python3.5/dist-packages/numpy/f2py/src/fortranobject.h -> /tmp/tmpd8xy5z0d/src.linux-x86_64-3.5\u001b[0m\n",
      "\u001b[39m  adding '/tmp/tmpd8xy5z0d/src.linux-x86_64-3.5/spline-f2pywrappers2.f90' to sources.\u001b[0m\n",
      "\u001b[39mbuild_src: building npy-pkg config files\u001b[0m\n",
      "\u001b[39mrunning build_ext\u001b[0m\n",
      "\u001b[39mcustomize UnixCCompiler\u001b[0m\n",
      "\u001b[39mcustomize UnixCCompiler using build_ext\u001b[0m\n",
      "\u001b[39mget_default_fcompiler: matching types: '['gnu95', 'intel', 'lahey', 'pg', 'absoft', 'nag', 'vast', 'compaq', 'intele', 'intelem', 'gnu', 'g95', 'pathf95', 'nagfor']'\u001b[0m\n",
      "\u001b[39mcustomize Gnu95FCompiler\u001b[0m\n",
      "\u001b[39mFound executable /usr/bin/gfortran\u001b[0m\n",
      "\u001b[39mcustomize Gnu95FCompiler\u001b[0m\n",
      "\u001b[39mcustomize Gnu95FCompiler using build_ext\u001b[0m\n",
      "\u001b[39mbuilding 'spline' extension\u001b[0m\n",
      "\u001b[39mcompiling C sources\u001b[0m\n",
      "\u001b[39mC compiler: x86_64-linux-gnu-gcc -pthread -DNDEBUG -g -fwrapv -O2 -Wall -Wstrict-prototypes -g -fdebug-prefix-map=/build/python3.5-3.5.3=. -fstack-protector-strong -Wformat -Werror=format-security -Wdate-time -D_FORTIFY_SOURCE=2 -fPIC\n",
      "\u001b[0m\n",
      "\u001b[39mcreating /tmp/tmpd8xy5z0d/tmp\u001b[0m\n",
      "\u001b[39mcreating /tmp/tmpd8xy5z0d/tmp/tmpd8xy5z0d\u001b[0m\n",
      "\u001b[39mcreating /tmp/tmpd8xy5z0d/tmp/tmpd8xy5z0d/src.linux-x86_64-3.5\u001b[0m\n",
      "\u001b[39mcompile options: '-I/tmp/tmpd8xy5z0d/src.linux-x86_64-3.5 -I/usr/local/lib/python3.5/dist-packages/numpy/core/include -I/usr/include/python3.5m -c'\u001b[0m\n",
      "\u001b[39mx86_64-linux-gnu-gcc: /tmp/tmpd8xy5z0d/src.linux-x86_64-3.5/splinemodule.c\u001b[0m\n",
      "\u001b[39mx86_64-linux-gnu-gcc: /tmp/tmpd8xy5z0d/src.linux-x86_64-3.5/fortranobject.c\u001b[0m\n",
      "In file included from /usr/local/lib/python3.5/dist-packages/numpy/core/include/numpy/ndarraytypes.h:1821:0,\n",
      "                 from /usr/local/lib/python3.5/dist-packages/numpy/core/include/numpy/ndarrayobject.h:18,\n",
      "                 from /usr/local/lib/python3.5/dist-packages/numpy/core/include/numpy/arrayobject.h:4,\n",
      "                 from /tmp/tmpd8xy5z0d/src.linux-x86_64-3.5/fortranobject.h:13,\n",
      "                 from /tmp/tmpd8xy5z0d/src.linux-x86_64-3.5/splinemodule.c:16:\n",
      "/usr/local/lib/python3.5/dist-packages/numpy/core/include/numpy/npy_1_7_deprecated_api.h:15:2: warning: #warning \"Using deprecated NumPy API, disable it by \" \"#defining NPY_NO_DEPRECATED_API NPY_1_7_API_VERSION\" [-Wcpp]\n",
      " #warning \"Using deprecated NumPy API, disable it by \" \\\n",
      "  ^~~~~~~\n",
      "/tmp/tmpd8xy5z0d/src.linux-x86_64-3.5/splinemodule.c:109:12: warning: ‘f2py_size’ defined but not used [-Wunused-function]\n",
      " static int f2py_size(PyArrayObject* var, ...)\n",
      "            ^~~~~~~~~\n",
      "In file included from /usr/local/lib/python3.5/dist-packages/numpy/core/include/numpy/ndarraytypes.h:1821:0,\n",
      "                 from /usr/local/lib/python3.5/dist-packages/numpy/core/include/numpy/ndarrayobject.h:18,\n",
      "                 from /usr/local/lib/python3.5/dist-packages/numpy/core/include/numpy/arrayobject.h:4,\n",
      "                 from /tmp/tmpd8xy5z0d/src.linux-x86_64-3.5/fortranobject.h:13,\n",
      "                 from /tmp/tmpd8xy5z0d/src.linux-x86_64-3.5/fortranobject.c:2:\n",
      "/usr/local/lib/python3.5/dist-packages/numpy/core/include/numpy/npy_1_7_deprecated_api.h:15:2: warning: #warning \"Using deprecated NumPy API, disable it by \" \"#defining NPY_NO_DEPRECATED_API NPY_1_7_API_VERSION\" [-Wcpp]\n",
      " #warning \"Using deprecated NumPy API, disable it by \" \\\n",
      "  ^~~~~~~\n",
      "\u001b[39mcompiling Fortran 90 module sources\u001b[0m\n",
      "\u001b[39mFortran f77 compiler: /usr/bin/gfortran -Wall -g -ffixed-form -fno-second-underscore -fPIC -O3 -funroll-loops\n",
      "Fortran f90 compiler: /usr/bin/gfortran -Wall -g -fno-second-underscore -fPIC -O3 -funroll-loops\n",
      "Fortran fix compiler: /usr/bin/gfortran -Wall -g -ffixed-form -fno-second-underscore -Wall -g -fno-second-underscore -fPIC -O3 -funroll-loops\u001b[0m\n",
      "\u001b[39mcompile options: '-I/tmp/tmpd8xy5z0d/src.linux-x86_64-3.5 -I/usr/local/lib/python3.5/dist-packages/numpy/core/include -I/usr/include/python3.5m -c'\n",
      "extra options: '-J/tmp/tmpd8xy5z0d/ -I/tmp/tmpd8xy5z0d/'\u001b[0m\n",
      "\u001b[39mgfortran:f90: spline.f90\u001b[0m\n",
      "\u001b[39mcompiling Fortran sources\u001b[0m\n",
      "\u001b[39mFortran f77 compiler: /usr/bin/gfortran -Wall -g -ffixed-form -fno-second-underscore -fPIC -O3 -funroll-loops\n",
      "Fortran f90 compiler: /usr/bin/gfortran -Wall -g -fno-second-underscore -fPIC -O3 -funroll-loops\n",
      "Fortran fix compiler: /usr/bin/gfortran -Wall -g -ffixed-form -fno-second-underscore -Wall -g -fno-second-underscore -fPIC -O3 -funroll-loops\u001b[0m\n",
      "\u001b[39mcompile options: '-I/tmp/tmpd8xy5z0d/src.linux-x86_64-3.5 -I/usr/local/lib/python3.5/dist-packages/numpy/core/include -I/usr/include/python3.5m -c'\n",
      "extra options: '-J/tmp/tmpd8xy5z0d/ -I/tmp/tmpd8xy5z0d/'\u001b[0m\n",
      "\u001b[39mgfortran:f90: /tmp/tmpd8xy5z0d/src.linux-x86_64-3.5/spline-f2pywrappers2.f90\u001b[0m\n",
      "\u001b[39m/usr/bin/gfortran -Wall -g -Wall -g -shared /tmp/tmpd8xy5z0d/tmp/tmpd8xy5z0d/src.linux-x86_64-3.5/splinemodule.o /tmp/tmpd8xy5z0d/tmp/tmpd8xy5z0d/src.linux-x86_64-3.5/fortranobject.o /tmp/tmpd8xy5z0d/spline.o /tmp/tmpd8xy5z0d/tmp/tmpd8xy5z0d/src.linux-x86_64-3.5/spline-f2pywrappers2.o -L/usr/lib/gcc/x86_64-linux-gnu/6 -L/usr/lib/gcc/x86_64-linux-gnu/6 -lgfortran -o ./spline.cpython-35m-x86_64-linux-gnu.so\u001b[0m\n",
      "Removing build directory /tmp/tmpd8xy5z0d\n"
     ]
    }
   ],
   "source": [
    "!f2py -c spline.pyf spline.f90"
   ]
  },
  {
   "cell_type": "code",
   "execution_count": 103,
   "metadata": {},
   "outputs": [],
   "source": [
    "import spline as sp\n",
    "import numpy as np"
   ]
  },
  {
   "cell_type": "markdown",
   "metadata": {},
   "source": [
    "A seguinte rotina recolhe os pontos conhecidos e organiza a matriz tridiagonal"
   ]
  },
  {
   "cell_type": "code",
   "execution_count": 104,
   "metadata": {},
   "outputs": [],
   "source": [
    "def f(x):\n",
    "    return (x-3)**2\n",
    "xis = np.array([2,3,4])\n",
    "y = f(xis)"
   ]
  },
  {
   "cell_type": "code",
   "execution_count": 105,
   "metadata": {},
   "outputs": [
    {
     "data": {
      "text/plain": [
       "(array([2, 3, 4]), array([2., 2., 2.]))"
      ]
     },
     "execution_count": 105,
     "metadata": {},
     "output_type": "execute_result"
    }
   ],
   "source": [
    "y2 = np.zeros(3)\n",
    "sp.cs.spline(xis,y,-2.,2.,y2)\n",
    "xis, y2"
   ]
  },
  {
   "cell_type": "code",
   "execution_count": 107,
   "metadata": {},
   "outputs": [],
   "source": [
    "def splintpy(xa,ya,y2a,xv):\n",
    "    y=np.zeros(len(xv))\n",
    "    i = 0\n",
    "    for x in xv:\n",
    "        \n",
    "        klo=0\n",
    "        khi=2\n",
    "        if  (khi-klo > 1):\n",
    "            k=int((khi+klo)/2)\n",
    "            if(xa[k]  > x):\n",
    "                khi=k\n",
    "            else:  klo=k\n",
    "\n",
    "        h=xa[khi]-xa[klo]\n",
    "        if (h==0.):\n",
    "            print(\"bad xa input\")\n",
    "        else: \n",
    "            a=(xa[khi]-x)/h\n",
    "            b=(x-xa[klo])/h\n",
    "            y[i]=a*ya[klo]+b*ya[khi]+ ((a**3-a)*y2a[klo]+(b**3-b)*y2a[khi])*(h**2)/6.\n",
    "            i +=1\n",
    "    return y"
   ]
  },
  {
   "cell_type": "code",
   "execution_count": 113,
   "metadata": {},
   "outputs": [],
   "source": [
    "N = 20\n",
    "y_int = 0.\n",
    "x1 = np.linspace(2.,4.,20)\n",
    "\n",
    "y1 = splintpy(xis,y,y2,x1)"
   ]
  },
  {
   "cell_type": "code",
   "execution_count": 114,
   "metadata": {},
   "outputs": [],
   "source": [
    "import matplotlib.pylab as plt\n",
    "%matplotlib inline"
   ]
  },
  {
   "cell_type": "code",
   "execution_count": 116,
   "metadata": {},
   "outputs": [
    {
     "data": {
      "text/plain": [
       "<matplotlib.legend.Legend at 0x7f67bc8c6358>"
      ]
     },
     "execution_count": 116,
     "metadata": {},
     "output_type": "execute_result"
    },
    {
     "data": {
      "image/png": "[encoded data removed]",
      "text/plain": [
       "<Figure size 432x432 with 1 Axes>"
      ]
     },
     "metadata": {
      "needs_background": "light"
     },
     "output_type": "display_data"
    }
   ],
   "source": [
    "fig, ax = plt.subplots()\n",
    "fig.set_size_inches(6,6)          # Make graph square\n",
    "plt.plot(xis,y,'*')\n",
    "plt.plot(x1,y1,label='Interpolação')\n",
    "plt.legend()"
   ]
  },
  {
   "cell_type": "code",
   "execution_count": null,
   "metadata": {},
   "outputs": [],
   "source": []
  }
 ],
 "metadata": {
  "kernelspec": {
   "display_name": "Python 3",
   "language": "python",
   "name": "python3"
  },
  "language_info": {
   "codemirror_mode": {
    "name": "ipython",
    "version": 3
   },
   "file_extension": ".py",
   "mimetype": "text/x-python",
   "name": "python",
   "nbconvert_exporter": "python",
   "pygments_lexer": "ipython3",
   "version": "3.5.3"
  }
 },
 "nbformat": 4,
 "nbformat_minor": 2
}
