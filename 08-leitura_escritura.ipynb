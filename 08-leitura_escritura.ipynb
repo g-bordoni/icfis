{
 "cells": [
  {
   "cell_type": "markdown",
   "metadata": {},
   "source": [
    "## Leitura e escritura de dados\n",
    "\n",
    "Em Python há varios caminhos para ler e escrever dados.  A biblioteca `numpy` provee várias formas.\n",
    "\n",
    "### `np.savetxt`\n",
    "\n",
    "No exemplo seguinte definimos uma matriz e a salvamos como arquivo de texto. "
   ]
  },
  {
   "cell_type": "code",
   "execution_count": 55,
   "metadata": {},
   "outputs": [],
   "source": [
    "import numpy as np\n",
    "x = np.array([[1, 2, 3], \n",
    "              [4, 5, 6],\n",
    "              [7, 8, 9]], np.int32)\n",
    "np.savetxt(\"teste.txt\", x)"
   ]
  },
  {
   "cell_type": "markdown",
   "metadata": {},
   "source": [
    "Quando imprimimos ou abrimos o arquivo encontramos o seguinte\n",
    "\n",
    "<img src=\"Figs/savetxt1.png\" width=100% >\n",
    "\n",
    "É possível também guardar o arquivo com um formato especial, exemplo, número de casas decimais ou como inteiros. Para isso definimos um formato como terceiro parametro no comando `savetxt`.   \n",
    "\n",
    "Podemos mudar também o delimitador, isto é, o espaço entre um dado e outro. O delimitador padrão são casas em branco.  Podemos escolher o delimitador desejado usando o quarto parâmetro da função, `delimiter` que é um string. \n"
   ]
  },
  {
   "cell_type": "code",
   "execution_count": 3,
   "metadata": {},
   "outputs": [],
   "source": [
    "np.savetxt(\"test2.txt\", x, fmt=\"%2.3f\", delimiter=\",\")\n",
    "np.savetxt(\"test3.txt\", x, fmt=\"%04d\", delimiter=\" :-) \")"
   ]
  },
  {
   "cell_type": "markdown",
   "metadata": {},
   "source": [
    "Esses arquivos se veem assim:\n",
    "\n",
    "<img src=\"Figs/savetxt2.png\" width=100% >\n"
   ]
  },
  {
   "cell_type": "markdown",
   "metadata": {},
   "source": [
    "A sintaxe completa de `savetxt` é"
   ]
  },
  {
   "cell_type": "code",
   "execution_count": 8,
   "metadata": {},
   "outputs": [],
   "source": [
    "np.savetxt('nome_arquivo.txt', x, fmt='%.18e', delimiter=' ', \\\n",
    "           newline='\\n', header='', footer='', comments='# ')"
   ]
  },
  {
   "cell_type": "markdown",
   "metadata": {},
   "source": [
    "Onde os parâmetros são:\n",
    "\n",
    "* newline: é um string (e.g. \"\\n\", \"\\r\\n\" or \",\\n\")\n",
    "* header: um strign que será escrito no cabeçalho do arquivo\n",
    "* footer: um string que será escrito no fim do arquivo\n",
    "* comments: um string que será adicionado a header ou footer para sinalizar que são comentários.  O jogo da abelha é o padrão.\n",
    "\n",
    "Se quisermos ir adicionando linhas a um arquivo. Algo feito comunmente em programas científicos onde as variáveis evoluem no espaço ou no tempo no interior de loops for ou while, o mesmo comando ira colocando os novos valores no final do arquivo. Porém para isso funcionar, temos inicialmente  que abrir o arquivo como se fosse um documento binario, e depois de escrever, fechamos ele. \n"
   ]
  },
  {
   "cell_type": "code",
   "execution_count": 29,
   "metadata": {},
   "outputs": [],
   "source": [
    "# para abrir o arquivo\n",
    "f=open('adlinhas.txt','ab')\n",
    "\n",
    "for iind in range(4):\n",
    "    # esse comando gera um array 2x2 de numeros randomicos\n",
    "    a=np.random.rand(2,2)\n",
    "    # agora escrevemos\n",
    "    np.savetxt(f,a)\n",
    "f.close()\n",
    "\n",
    "# note que se executamos esses comandos repetidas vezes\n",
    "# iremos adicionar mais e mais linhas ao arquivo"
   ]
  },
  {
   "cell_type": "markdown",
   "metadata": {},
   "source": [
    "### lendo arquivos com `np.loadtxt`\n",
    "\n",
    "É o comando equivalente para leitura de arquivos. Vamos ler o arquivo que criamos acima"
   ]
  },
  {
   "cell_type": "code",
   "execution_count": 10,
   "metadata": {},
   "outputs": [],
   "source": [
    "y = np.loadtxt('teste.txt')"
   ]
  },
  {
   "cell_type": "code",
   "execution_count": 11,
   "metadata": {},
   "outputs": [
    {
     "data": {
      "text/plain": [
       "array([[1., 2., 3.],\n",
       "       [4., 5., 6.],\n",
       "       [7., 8., 9.]])"
      ]
     },
     "execution_count": 11,
     "metadata": {},
     "output_type": "execute_result"
    }
   ],
   "source": [
    "y"
   ]
  },
  {
   "cell_type": "markdown",
   "metadata": {},
   "source": [
    "É possivel colocar cada array dentro de 'teste.txt' num array diferente"
   ]
  },
  {
   "cell_type": "code",
   "execution_count": 12,
   "metadata": {},
   "outputs": [],
   "source": [
    "x,y,z = np.loadtxt('teste.txt')"
   ]
  },
  {
   "cell_type": "code",
   "execution_count": 13,
   "metadata": {},
   "outputs": [
    {
     "data": {
      "text/plain": [
       "array([1., 2., 3.])"
      ]
     },
     "execution_count": 13,
     "metadata": {},
     "output_type": "execute_result"
    }
   ],
   "source": [
    "x"
   ]
  },
  {
   "cell_type": "code",
   "execution_count": 14,
   "metadata": {},
   "outputs": [
    {
     "data": {
      "text/plain": [
       "array([4., 5., 6.])"
      ]
     },
     "execution_count": 14,
     "metadata": {},
     "output_type": "execute_result"
    }
   ],
   "source": [
    "y"
   ]
  },
  {
   "cell_type": "code",
   "execution_count": 15,
   "metadata": {},
   "outputs": [
    {
     "data": {
      "text/plain": [
       "array([7., 8., 9.])"
      ]
     },
     "execution_count": 15,
     "metadata": {},
     "output_type": "execute_result"
    }
   ],
   "source": [
    "z"
   ]
  },
  {
   "cell_type": "markdown",
   "metadata": {},
   "source": [
    "### Lendo e escrevendo com `np.load` e `np.save`\n",
    "\n",
    "Quando os arquivos que queremos escrever vão ser lidos dentro do proprio python, o método recomendado é `np.load` e `np.save`.  O ultimo salva o arquivo em formato binario do python. Como é um binario, ele economiza espaço, porém não pode ser visualizado desde a terminal. O arquivo salvo terá a extensão `.npy`."
   ]
  },
  {
   "cell_type": "code",
   "execution_count": 38,
   "metadata": {},
   "outputs": [
    {
     "data": {
      "image/png": "[encoded data removed]",
      "text/plain": [
       "<Figure size 432x288 with 1 Axes>"
      ]
     },
     "metadata": {
      "needs_background": "light"
     },
     "output_type": "display_data"
    }
   ],
   "source": [
    "import matplotlib.pylab as plt\n",
    "%matplotlib inline\n",
    "\n",
    "# criamos dos arrays\n",
    "tempo = np.linspace(0,100,30)\n",
    "posicao = np.random.normal(0,2,30)\n",
    "\n",
    "plt.scatter(tempo,posicao)\n",
    "plt.xlabel('tempo')\n",
    "plt.ylabel('posição')\n",
    "\n",
    "# salvamos os dados com np.save\n",
    "np.save('temp_vs_pos', ((tempo,posicao)))"
   ]
  },
  {
   "cell_type": "markdown",
   "metadata": {},
   "source": [
    "Recuperamos os dados no arquivo *temp_vs_pos.dat* usando `np.load`"
   ]
  },
  {
   "cell_type": "code",
   "execution_count": 39,
   "metadata": {},
   "outputs": [],
   "source": [
    "tempo, posicao = np.load('temp_vs_pos.npy')"
   ]
  },
  {
   "cell_type": "code",
   "execution_count": 40,
   "metadata": {},
   "outputs": [
    {
     "data": {
      "text/plain": [
       "Text(0, 0.5, 'posição')"
      ]
     },
     "execution_count": 40,
     "metadata": {},
     "output_type": "execute_result"
    },
    {
     "data": {
      "image/png": "[encoded data removed]",
      "text/plain": [
       "<Figure size 432x288 with 1 Axes>"
      ]
     },
     "metadata": {
      "needs_background": "light"
     },
     "output_type": "display_data"
    }
   ],
   "source": [
    "plt.scatter(tempo,posicao)\n",
    "plt.xlabel('tempo')\n",
    "plt.ylabel('posição')"
   ]
  },
  {
   "cell_type": "markdown",
   "metadata": {},
   "source": [
    "### `Pandas` a biblioteca para analise de dados\n",
    "\n",
    "Pandas é um pacote de Python que prove rotinas rápidas e expresivas para trabalhar com estruturas de dados. O objetivo de Pandas é ser a ferramenta  open-source mais poderosa e flexivel para analises de dados. Nos focaremos por enquanto na versatilidade para leitura de arquivos CSV (comma separated values).\n",
    "\n",
    "Um bom exemplo é a tabela de alunos oferecida pelo sistema minha ufmg. \n"
   ]
  },
  {
   "cell_type": "code",
   "execution_count": 41,
   "metadata": {},
   "outputs": [],
   "source": [
    "import pandas as pd"
   ]
  },
  {
   "cell_type": "code",
   "execution_count": 50,
   "metadata": {},
   "outputs": [],
   "source": [
    "# a variavel names é uma lista de strings onde podemos\n",
    "# colocar nome a cada uma das colunas do arquivo\n",
    "\n",
    "al = pd.read_csv('alumni/20182_DIG.csv',header=2, \\\n",
    "                     names=['index','matricula','nomes'])"
   ]
  },
  {
   "cell_type": "code",
   "execution_count": 53,
   "metadata": {},
   "outputs": [
    {
     "data": {
      "text/html": [
       "<div>\n",
       "<style scoped>\n",
       "    .dataframe tbody tr th:only-of-type {\n",
       "        vertical-align: middle;\n",
       "    }\n",
       "\n",
       "    .dataframe tbody tr th {\n",
       "        vertical-align: top;\n",
       "    }\n",
       "\n",
       "    .dataframe thead th {\n",
       "        text-align: right;\n",
       "    }\n",
       "</style>\n",
       "<table border=\"1\" class=\"dataframe\">\n",
       "  <thead>\n",
       "    <tr style=\"text-align: right;\">\n",
       "      <th></th>\n",
       "      <th>index</th>\n",
       "      <th>matricula</th>\n",
       "      <th>nomes</th>\n",
       "    </tr>\n",
       "  </thead>\n",
       "  <tbody>\n",
       "    <tr>\n",
       "      <th>0</th>\n",
       "      <td>1</td>\n",
       "      <td>2012027240</td>\n",
       "      <td>ALINE ANDRADE DO NASCIMENTO</td>\n",
       "    </tr>\n",
       "    <tr>\n",
       "      <th>1</th>\n",
       "      <td>2</td>\n",
       "      <td>2015105608</td>\n",
       "      <td>ANA CLARA MAGALHAES BARCELOS</td>\n",
       "    </tr>\n",
       "    <tr>\n",
       "      <th>2</th>\n",
       "      <td>3</td>\n",
       "      <td>2018050839</td>\n",
       "      <td>BARBARA ALVES LAND FERREIRA</td>\n",
       "    </tr>\n",
       "    <tr>\n",
       "      <th>3</th>\n",
       "      <td>4</td>\n",
       "      <td>2017019261</td>\n",
       "      <td>BEATRIZ DE SOUZA PANCRACIO DE ERRICO</td>\n",
       "    </tr>\n",
       "    <tr>\n",
       "      <th>4</th>\n",
       "      <td>5</td>\n",
       "      <td>2018050995</td>\n",
       "      <td>CAYRO TEIXEIRA DE SIQUEIRA NETO</td>\n",
       "    </tr>\n",
       "  </tbody>\n",
       "</table>\n",
       "</div>"
      ],
      "text/plain": [
       "   index   matricula                                 nomes\n",
       "0      1  2012027240           ALINE ANDRADE DO NASCIMENTO\n",
       "1      2  2015105608          ANA CLARA MAGALHAES BARCELOS\n",
       "2      3  2018050839           BARBARA ALVES LAND FERREIRA\n",
       "3      4  2017019261  BEATRIZ DE SOUZA PANCRACIO DE ERRICO\n",
       "4      5  2018050995       CAYRO TEIXEIRA DE SIQUEIRA NETO"
      ]
     },
     "execution_count": 53,
     "metadata": {},
     "output_type": "execute_result"
    }
   ],
   "source": [
    "al.head()"
   ]
  },
  {
   "cell_type": "code",
   "execution_count": 54,
   "metadata": {},
   "outputs": [
    {
     "name": "stdout",
     "output_type": "stream",
     "text": [
      "<class 'pandas.core.frame.DataFrame'>\n",
      "RangeIndex: 41 entries, 0 to 40\n",
      "Data columns (total 3 columns):\n",
      "index        41 non-null int64\n",
      "matricula    41 non-null int64\n",
      "nomes        41 non-null object\n",
      "dtypes: int64(2), object(1)\n",
      "memory usage: 1.0+ KB\n"
     ]
    }
   ],
   "source": [
    "al.info()"
   ]
  },
  {
   "cell_type": "markdown",
   "metadata": {},
   "source": [
    "Com o mesmo comando podemos ler arquivos `.txt` "
   ]
  },
  {
   "cell_type": "markdown",
   "metadata": {},
   "source": [
    "## Atividade\n",
    "### Mudanças da temperatura da terra\n",
    "\n",
    "A média da temperatura na terra é $T = 14$ C. Essa temperatura tem mudado muito ao longo da historia da terra ($4.6$ bilhoes de anos), tal como se ve na figura seguinte que reconstrui a partir de abundancias de isotopos anomalia a temperatura terrestre. (Quanto mais distante no passado é feita uma medição mais imprecisa ela fica.)\n",
    "\n",
    "*A palavra anomalia se refere a variações com respeito a uma média calculada sob algum período*. \n",
    "\n",
    "Uma descrição de cada um dos segmentos da figura pode ser encontrada no seguinte link:\n",
    "\n",
    "[Paleotemperaturas](https://en.wikipedia.org/wiki/File:All_palaeotemps.png#Summary)\n",
    "\n",
    "<img src=\"Figs/All_palaeotemps.svg.png\" width=100% >\n",
    "\n",
    "É interessante a variação quase-periódica do painel 4 da figura acima que mostra os chamados ciclos glaciais-interglaciais.  As mudanças de temperatura durante esses ciclos levaram à expansão (períodos glaciares) e contração (períodos interglaciares) das camadas de gelo que cobrem a terra. A partir de então, a terra permanece num período interglacial chamado Holoceno.  A existência desses ciclos se deve à mudanças cíclicas do percurso da terra arredor do sol. Mudanças na eccentricidade, inclinação do eixo de rotação e preseção do eixo de rotação contribuim aos trés ciclos dominantes chamados *ciclos de Milankovitch*.  A variação desses três ciclos altera o fluxo de radiação solar que chega na terra, impactando fortemente no clima. \n",
    "\n",
    "* Eccentricidade: ciclo de ~ $100.000$ anos\n",
    "* Inclinação do eixo de rotação em relação ao plano da orbita arredor do sol: ciclo de $41.000$ anos\n",
    "* Precesão: é um suave balanço do eixo de rotação: ciclo de $23.000$ anos. \n",
    "\n",
    "<img src=\"Figs/milankovitch.jpg\" width=100% >\n",
    "\n",
    "O quarto painel da figura acima pode ser reconstruida a partir dos dados localizados na pasta *data*, no arquivo *edc3deuttemp2007.txt*. Fonte: [nooa](https://www.ncdc.noaa.gov/data-access/paleoclimatology-data/datasets/ice-core).\n",
    "\n",
    "<img src=\"Figs/paleo_tanomaly.png\" width=80%>\n",
    "\n",
    "### Aquecimento global\n",
    "\n",
    "É possível também reconstruir a temperatura dos últimos 2000 anos usando medidas indiretas como a espessura dos aneis das árvores, crescimento dos corais, mudanças na concentração de isotopos, etc. A anomalia é apresentada na seguinte figura.    \n",
    "\n",
    "<img src=\"Figs/2000_Year_Temperature.png\" width=80%>\n",
    "\n",
    "Observamos nessa figura 3 caracteristicas importantes:\n",
    "\n",
    "1. A média global de temperatura nos últimos 25 anos tem sido maior que em qualquer período desde 1600 AD\n",
    "2. Existiu uma pequena idade do gelo por volta 1700 AD\n",
    "3. Existiu um período cálido medieval (MWP) centrado em 1000 AD. \n",
    "\n",
    "Medidas sistemáticas da temperatura começaram no fim do século XVIII. \n",
    "O arquivo localizado na pasta *data*, chamado *Complete_TAVG_complete.txt* contém os dados para reconstruir a temperatura a partir de 1750. Fonte: [berkeley earth project](http://berkeleyearth.org/).\n",
    "\n",
    "<img src=\"Figs/tanomaly1750.png\" width=80%>\n",
    "\n",
    "#### Atividade: \n",
    "\n",
    "Descargue as duas tabelas de dados no repositorio. Para a tabela de paleo-temperaturas estime a inclinação da curva para o máximo que começa em $-16.000$ anos e estime a taxa de crescimento da temperatura como função do tempo.\n",
    "\n",
    "Faça o mesmo para a tabela de dados com medidas diretas de temperatura estimando a mesma taxa para temperaturas a partir de 1850, e começando a partir de 1950.\n",
    "\n",
    "Discuta criticamente seus resultados em relação ao aquecimento global antropogénico. "
   ]
  },
  {
   "cell_type": "code",
   "execution_count": null,
   "metadata": {},
   "outputs": [],
   "source": []
  }
 ],
 "metadata": {
  "kernelspec": {
   "display_name": "Python 3",
   "language": "python",
   "name": "python3"
  },
  "language_info": {
   "codemirror_mode": {
    "name": "ipython",
    "version": 3
   },
   "file_extension": ".py",
   "mimetype": "text/x-python",
   "name": "python",
   "nbconvert_exporter": "python",
   "pygments_lexer": "ipython3",
   "version": "3.5.3"
  }
 },
 "nbformat": 4,
 "nbformat_minor": 2
}
