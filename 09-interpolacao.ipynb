{
 "cells": [
  {
   "cell_type": "code",
   "execution_count": 7,
   "metadata": {},
   "outputs": [
    {
     "data": {
      "application/javascript": [
       "MathJax.Hub.Config({\n",
       "    TeX: { equationNumbers: { autoNumber: \"AMS\" } }\n",
       "});"
      ],
      "text/plain": [
       "<IPython.core.display.Javascript object>"
      ]
     },
     "metadata": {},
     "output_type": "display_data"
    }
   ],
   "source": [
    "%%javascript\n",
    "MathJax.Hub.Config({\n",
    "    TeX: { equationNumbers: { autoNumber: \"AMS\" } }\n",
    "});"
   ]
  },
  {
   "cell_type": "markdown",
   "metadata": {},
   "source": [
    "# Interpolação e extrapolação\n",
    "\n",
    "Como resultado de experimentos ou simulações, as vezes temos um conjunto de pontos na forma:\n",
    "\n",
    "\\begin{equation}\n",
    "data = \\left((x_0,f(x_0)),(x_1,f(x_1)),\\ldots,(x_n,f(y_n))\\right)\n",
    "\\end{equation}\n",
    "\n",
    "mas não temos uma expresão, $f(x)$ que nos permita calcular o valor da função em qualquer ponto arbitrario $x$. Muitas vezes os $x_i$ são igualmente espaçados, mas nem sempre.\n",
    "\n",
    "Nossa tarefa é estimar essa função, $f(x)$ trazando uma curva suave a traves de todos, e quizas ultrapassando, os valores de $x$. Se o $x$ desejado se encontra entre o mínimo e o máximo dos dados, o problema é chamado *interpolação*. Se o $x$ está fora dos nossos dados o problema é chamado extrapolação.\n",
    "\n",
    "Os dois problemas devem representar essa função com uma forma funcional que seja o mais geral possível. As formas funcionais mais comúns são os *polinomios*. Funções trigonométricas, senos e cosenos, também permitem fazer interpolação como os chamados métodos de Fourier que estudaremos em outro capítulo.  Nos casos onde a conservação da continuidade das derivadas é necessário, utilizam-se métodos *splines*. O mais conhecido desses métodos é o de *splines* cúbicos. \n",
    "\n",
    "Conceitualmente o processo da interpolação tem dois etapas: (1) ajustar uma função aos dados e (2) avaliar essa função ao ponto arbitrario $x$.   O número de pontos usado para realizar a interpolação representa a **ordem** da interpolação. \n",
    "\n",
    "\n",
    "Nesse capítulo vamos descrever em detalhe os métodos polinomial e de *splines* cubico.  As rotinas de interpolação são também rutinas de extrapolação, que no entanto, devem ser consideradas com muito cuidado. \n",
    "\n",
    "\n",
    "## Interpolação e extrapolação polinomial\n",
    "\n",
    "Asumindo que temos um conjunto de $N+1$ pontos, queremos determinar um polinomio de grau N, tal que\n",
    "\n",
    "\\begin{equation}\n",
    "P_N(x_i) = f(x_i) = y_i  \\;\\;, i = 0,1, \\ldots , N \\;.\n",
    "\\end{equation}\n",
    "\n",
    "Se escrevemos $P_N$ da forma:\n",
    "\n",
    "\\begin{equation}\n",
    "P_N(x) = a_0 + a_1 (x-x_0) + a_2 (x-x_0)(x-x_1) + \\ldots + a_N (x-x_0) \\ldots (x-x_{N-1}) \\;,\n",
    "\\end{equation}\n",
    "\n",
    "\n",
    "Então a equação acima resulta num sistema triangular de equações:\n",
    "\n",
    "\\begin{eqnarray}\n",
    "a_0 &=& f(x_0) \\\\\\nonumber\n",
    "a_0 + a_1 (x_1-x_0) &=& f(x_1) \\\\\\nonumber\n",
    "a_0 + a_1 (x_2-x_0) + a_2 (x_2-x_0)(x_2-x_1) &=& f(x_2) \\\\\\nonumber\n",
    "\\ldots \\; \\ldots \\; \\ldots\n",
    "\\end{eqnarray}\n",
    "\n",
    "Os coeficientes $a_0, \\ldots, a_N$ podem ser determinados de forma recursiva, começando por $a_0$, depois $a_1$ e assim por diante. \n",
    "\n",
    "Por exemplo, se temos unicamente dois pontos (uma linha reta), então o polinomio ficara:\n",
    "\n",
    "\\begin{equation}\n",
    "P_1(x) =  \\frac{x - x_0}{x_1 - x_0} y_1 + \\frac{x - x_1}{x0 - x_1} y_0\n",
    "\\end{equation}\n",
    "\n",
    "e com 3 pontos (aproximação parabólica) temos:\n",
    "\n",
    "\\begin{equation}\n",
    "P_1(x) =  \\frac{(x - x_0)(x-x_1)}{(x_2 - x_0)(x_2 - x_1)} y_2 \n",
    "       + \\frac{(x - x_0)(x-x_2)}{(x_1 - x_0)(x_1-x_2)} y_1 \n",
    "       + \\frac{(x - x_1)(x-x_2)}{(x_0 - x_1)(x_0-x_2)} y_0 \n",
    "\\end{equation}\n",
    "\n",
    "A fórmula clásica da simplifica a interpolação foi criada por Lagrange e é dada por:\n",
    "\n",
    "\\begin{equation}\n",
    "P_N(x) =  \\sum_{i=0}^N y_i\\left(\\prod_{k \\neq i} \\frac{x-x_k}{x_i-x_k} \\right)\n",
    "\\end{equation}\n",
    "\n",
    "\n",
    "E assim sucessivamente. Da equação acima é possivel ver que quando $x=x_i$, temos que $f(x) = f(x_i)$. \n",
    "\n",
    "O programa que estudaremos a seguir, baseia-se no método de diferenças divididas. A receita é bem simples. Se pegamos $x=x_0$ na equação (3), vamos ter o valor de $a_0 = f(x_0) = y_0$. \n",
    "Movendo $a_0$ à esquerda e dividindo por $(x-x_0)$ temos:\n",
    "\n",
    "\\begin{equation}\n",
    "\\frac{f(x) - f(x_0)}{x-x_0} = a_1 (x-x_0) + a_2 (x-x_0)(x-x_1) \n",
    "           + \\ldots + a_N (x-x_0) \\ldots (x-x_{N-1}) \\;,\n",
    "\\end{equation}\n",
    "\n",
    "A quantidade à esquerda:\n",
    "\n",
    "\\begin{equation}\n",
    "f_{0x} = \\frac{f(x) - f(x_0)}{x-x_0}  \\;,\n",
    "\\end{equation}\n",
    "\n",
    "é a diferência finita de primeira ordem.   Agora podemos considerar $x=x_1$, temos que $a_1 = f_{01}$. \n",
    "\n",
    "Movendo novamente $a_1$ à esquerda e dividindo dessa vez por $x-x_1$, obtemos:\n",
    "\n",
    "$$\n",
    "\\frac{f_{0x} - f_{01}}{x - x_1} = + a_2 \n",
    "           + \\ldots + a_N (x-x_0) \\ldots (x-x_{N-1}) \\;,\n",
    "$$\n",
    "\n",
    "e a quantidade\n",
    "\n",
    "$$\n",
    "f_{01x} = \\frac{f_{0x} - f_{01}}{x-x_1}  \\;,\n",
    "$$\n",
    "\n",
    "é uma diferença dividida de segunda ordem, onde o coeficiente $a_1 = f_{01}$ é determinado a partir de $f_{0x}$, fazendo $x = x_1$.  Podemos continuar nesse raciocinio e definimos a diferença dividida de ordem $k+1$ como\n",
    "\n",
    "\n",
    "\\begin{equation}\n",
    "f_{01 \\ldots kx} = \\frac{f_{01\\ldots(k-1)x} - f_{01\\ldots (k-1)k}}{x-x_k}  \\;,\n",
    "\\end{equation}\n",
    "\n",
    "o que implica que \n",
    "\n",
    "$$\n",
    "a_k = f_{01 \\ldots (k-1)k}\n",
    "$$\n",
    "\n",
    "Se substituimos $x_0, x_1, \\ldots, x_k$ na equação (10) por $x_{i+1}, x_{i+2}, \\ldots, x_k$, ou seja, contamos desde $i+1$ até $k$ em vez de contar desde $0$ até $k$ e substituimos $x$ por $x_i$, podemos construir um algoritmo recursivo para o cálculo das diferenças divididas.\n",
    "\n",
    "$$\n",
    "f_{x_i x_{i+1} \\ldots x_{k}} = \\frac{f_{x_{i+1} \\ldots x_k} - f_{x_i x_{i+1} \\ldots x_{k-1}}}  {x_k-x_i}  \\;,\n",
    "$$\n",
    "\n",
    "asumindo que nossos dados se encontram numa tabela de valores $(x_j,f(x_j) = y_j)$ e precisamos construir os coeficientes para o polinomio $P_N(x)$.  A última equação pode ser melhor entendida na seguinte tabela para $N=3$.\n",
    "\n",
    "\n",
    "\\begin{matrix}\n",
    "x_0 \\; y_0 &               &                  & \\\\\n",
    "           &  f_{x_0 x_1}  &                  & \\\\\n",
    "x_1 \\; y_1 &               &  f_{x_0 x_1 x_2} & \\\\\n",
    "           &  f_{x_1 x_2}  &                  & f_{x_0 x_1 x_2 x_3}    \\\\\n",
    "x_2 \\; y_2 &               &  f_{x_1 x_2 x_3} & \\\\\n",
    "           &  f_{x_2 x_3}  &                  & \\\\\n",
    "x_3 \\; y_3 &               &                  & \\\\           \n",
    "\\end{matrix}\n",
    "\n",
    "Os coeficientes que procuramos para o polinomio serão os elementos ao longo da diagonal principal.  Veremos agora a implementação do algoritmo de Neville"
   ]
  },
  {
   "cell_type": "code",
   "execution_count": 4,
   "metadata": {},
   "outputs": [],
   "source": [
    "import numpy as np\n",
    "import matplotlib.pylab as plt"
   ]
  },
  {
   "cell_type": "code",
   "execution_count": 92,
   "metadata": {},
   "outputs": [],
   "source": [
    "# Neville Algorithm\n",
    "def polint(xa,ya,x):\n",
    "    n = xa.size\n",
    "    c = np.copy(ya)\n",
    "    d = np.copy(ya)\n",
    "    ns=1\n",
    "    # dif eh a diferenca do valor de entrada x com o primeiro valor \n",
    "    # de nossos dados xa[0]\n",
    "    # dift eh um array, com a diferenca entre x e cada um dos xa\n",
    "    dif = abs(x - xa[0])\n",
    "    dift = np.abs(x - xa)\n",
    "    for i in range (n):\n",
    "        if (dift[i] < dif):\n",
    "            ns = i\n",
    "            dif = dift[i]\n",
    "    # depois desse loop ns é o índice de xa mais próximo de x\n",
    "    # ya é o valor de ya nesse indice\n",
    "\n",
    "    y = ya[ns]\n",
    "    ns = ns-1\n",
    "    \n",
    "    # no loop mais externo m vai desde o primeiro ponto, m=0\n",
    "    # até o penultimo ponto n-2\n",
    "    for m in range(n-1):\n",
    "        # o loop interno inicialmente tem n-1 elementos\n",
    "        # esse número vai diminuindo em 1 a cada iteracao\n",
    "        for i in range(0,(n-m-1)):\n",
    "            ho = xa[i] - x\n",
    "            hp = xa[i+m+1] - x\n",
    "            w = c[i+1]-d[i]\n",
    "            den = ho - hp\n",
    "            if (den == 0):\n",
    "                print('Error, den=0')\n",
    "                break\n",
    "            den = w/den\n",
    "            d[i] = hp*den\n",
    "            c[i] = ho*den\n",
    "                \n",
    "        #print ('ns, n-m = ',ns, n-m-2)        \n",
    "        if (2*ns < n-m-2):\n",
    "            y += c[ns+1]\n",
    "        else:\n",
    "            y += d[ns]\n",
    "            ns = ns-1\n",
    "    return y"
   ]
  },
  {
   "cell_type": "code",
   "execution_count": 132,
   "metadata": {},
   "outputs": [],
   "source": [
    "xb = np.linspace(0.,np.pi,5)\n",
    "yb = np.sin(xb)\n",
    "\n",
    "#x = 0.36\n",
    "#f = polint(xb,yb,x)\n",
    "\n",
    "N = 32\n",
    "x = np.linspace(0.,np.pi+2.,N)\n",
    "f = np.zeros_like(x)\n",
    "for k in range(N):\n",
    "    f[k] = polint(xb,yb,x[k])"
   ]
  },
  {
   "cell_type": "code",
   "execution_count": 133,
   "metadata": {},
   "outputs": [
    {
     "data": {
      "image/png": "[encoded data removed]",
      "text/plain": [
       "<Figure size 432x288 with 1 Axes>"
      ]
     },
     "metadata": {
      "needs_background": "light"
     },
     "output_type": "display_data"
    }
   ],
   "source": [
    "plt.plot(xb,yb,'*')\n",
    "plt.plot(x,f, '-', lw=2)\n",
    "plt.grid()"
   ]
  },
  {
   "cell_type": "code",
   "execution_count": 138,
   "metadata": {},
   "outputs": [
    {
     "name": "stdout",
     "output_type": "stream",
     "text": [
      "0 0 1\n",
      "0 1 2\n",
      "0 2 3\n",
      "0 3 4\n",
      "1 0 2\n",
      "1 1 3\n",
      "1 2 4\n",
      "2 0 3\n",
      "2 1 4\n",
      "3 0 4\n"
     ]
    }
   ],
   "source": [
    "n=5\n",
    "for m in range(n-1):\n",
    "    for i in range(0,(n-m-1)):\n",
    "        print(m,i,i+m+1)"
   ]
  },
  {
   "cell_type": "code",
   "execution_count": null,
   "metadata": {},
   "outputs": [],
   "source": []
  }
 ],
 "metadata": {
  "kernelspec": {
   "display_name": "Python 3",
   "language": "python",
   "name": "python3"
  },
  "language_info": {
   "codemirror_mode": {
    "name": "ipython",
    "version": 3
   },
   "file_extension": ".py",
   "mimetype": "text/x-python",
   "name": "python",
   "nbconvert_exporter": "python",
   "pygments_lexer": "ipython3",
   "version": "3.5.3"
  }
 },
 "nbformat": 4,
 "nbformat_minor": 2
}
