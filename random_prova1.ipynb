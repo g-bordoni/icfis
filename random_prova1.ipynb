{
 "cells": [
  {
   "cell_type": "code",
   "execution_count": 9,
   "metadata": {},
   "outputs": [],
   "source": [
    "import pandas\n",
    "import numpy as np\n",
    "import random"
   ]
  },
  {
   "cell_type": "code",
   "execution_count": 16,
   "metadata": {},
   "outputs": [],
   "source": [
    "al = pandas.read_csv('/home/guerrero/Dropbox/ICFIS/I-2019/20191_DIG_ICE064.csv',header=2,names=['index','mat','nome'])"
   ]
  },
  {
   "cell_type": "code",
   "execution_count": 17,
   "metadata": {},
   "outputs": [
    {
     "data": {
      "text/plain": [
       "40"
      ]
     },
     "execution_count": 17,
     "metadata": {},
     "output_type": "execute_result"
    }
   ],
   "source": [
    "numero_alunos = al.nome.size\n",
    "numero_alunos"
   ]
  },
  {
   "cell_type": "code",
   "execution_count": 18,
   "metadata": {},
   "outputs": [
    {
     "ename": "ValueError",
     "evalue": "not enough values to unpack (expected 1, got 0)",
     "output_type": "error",
     "traceback": [
      "\u001b[0;31m---------------------------------------------------------------------------\u001b[0m",
      "\u001b[0;31mValueError\u001b[0m                                Traceback (most recent call last)",
      "\u001b[0;32m<ipython-input-18-ebc791294550>\u001b[0m in \u001b[0;36m<module>\u001b[0;34m()\u001b[0m\n\u001b[1;32m      1\u001b[0m \u001b[0;31m# alunos que fizeram truncamento\u001b[0m\u001b[0;34m\u001b[0m\u001b[0;34m\u001b[0m\u001b[0m\n\u001b[0;32m----> 2\u001b[0;31m \u001b[0mt1\u001b[0m\u001b[0;34m,\u001b[0m \u001b[0;34m=\u001b[0m \u001b[0;34m(\u001b[0m\u001b[0mnp\u001b[0m\u001b[0;34m.\u001b[0m\u001b[0mwhere\u001b[0m\u001b[0;34m(\u001b[0m\u001b[0mal\u001b[0m\u001b[0;34m.\u001b[0m\u001b[0mnome\u001b[0m\u001b[0;34m[\u001b[0m\u001b[0;34m:\u001b[0m\u001b[0;34m]\u001b[0m \u001b[0;34m==\u001b[0m \u001b[0;34m'IAN BARUC COSTA E SILVA'\u001b[0m\u001b[0;34m)\u001b[0m\u001b[0;34m)\u001b[0m\u001b[0;34m[\u001b[0m\u001b[0;36m0\u001b[0m\u001b[0;34m]\u001b[0m\u001b[0;34m\u001b[0m\u001b[0m\n\u001b[0m\u001b[1;32m      3\u001b[0m \u001b[0mt2\u001b[0m\u001b[0;34m,\u001b[0m \u001b[0;34m=\u001b[0m \u001b[0;34m(\u001b[0m\u001b[0mnp\u001b[0m\u001b[0;34m.\u001b[0m\u001b[0mwhere\u001b[0m\u001b[0;34m(\u001b[0m\u001b[0mal\u001b[0m\u001b[0;34m.\u001b[0m\u001b[0mnome\u001b[0m\u001b[0;34m[\u001b[0m\u001b[0;34m:\u001b[0m\u001b[0;34m]\u001b[0m \u001b[0;34m==\u001b[0m \u001b[0;34m'LUIZ HENRIQUE SILVA MIRANDA'\u001b[0m\u001b[0;34m)\u001b[0m\u001b[0;34m)\u001b[0m\u001b[0;34m\u001b[0m\u001b[0m\n\u001b[1;32m      4\u001b[0m \u001b[0mt2\u001b[0m \u001b[0;34m=\u001b[0m \u001b[0mt2\u001b[0m\u001b[0;34m[\u001b[0m\u001b[0;36m0\u001b[0m\u001b[0;34m]\u001b[0m\u001b[0;34m\u001b[0m\u001b[0m\n\u001b[1;32m      5\u001b[0m \u001b[0mt1\u001b[0m\u001b[0;34m,\u001b[0m \u001b[0mt2\u001b[0m\u001b[0;34m\u001b[0m\u001b[0m\n",
      "\u001b[0;31mValueError\u001b[0m: not enough values to unpack (expected 1, got 0)"
     ]
    }
   ],
   "source": [
    "# alunos que fizeram truncamento\n",
    "t1, = (np.where(al.nome[:] == 'IAN BARUC COSTA E SILVA'))[0]\n",
    "t2, = (np.where(al.nome[:] == 'LUIZ HENRIQUE SILVA MIRANDA'))\n",
    "t2 = t2[0]\n",
    "t1, t2"
   ]
  },
  {
   "cell_type": "code",
   "execution_count": 19,
   "metadata": {},
   "outputs": [],
   "source": [
    "a = np.arange(0,numero_alunos)\n",
    "#a = np.delete(a,[t1,t2])"
   ]
  },
  {
   "cell_type": "code",
   "execution_count": 20,
   "metadata": {},
   "outputs": [
    {
     "data": {
      "text/plain": [
       "40"
      ]
     },
     "execution_count": 20,
     "metadata": {},
     "output_type": "execute_result"
    }
   ],
   "source": [
    "a.size"
   ]
  },
  {
   "cell_type": "code",
   "execution_count": 21,
   "metadata": {},
   "outputs": [
    {
     "name": "stdout",
     "output_type": "stream",
     "text": [
      "40\n",
      "AMANDA APARECIDA DUARTE ALMEIDA     VINICIUS SALES BARBOSA MENDES\n",
      "n =  38\n",
      "LUCAS NERIS MATOSINHOS     JOAO RENATO VAZ PIRES\n",
      "n =  36\n",
      "IGOR DE SOUZA     GABRIEL COELHO MENDONCA RODRIGUES\n",
      "n =  34\n",
      "FERNANDO LUIZ ALVES JARDIM     RENAN GOMES ALVIM\n",
      "n =  32\n",
      "BERNARDO RAMOS OLIVEIRA     VERONICA PEREIRA DO NASCIMENTO\n",
      "n =  30\n",
      "RAFAEL SOARES BORGES     VICTORIA BERTOLDO ROCHA\n",
      "n =  28\n",
      "LUCAS KER SOARES DIAS     VITOR MATEUS SANTOS PARREIRAS\n",
      "n =  26\n",
      "ARTHUR FAGUNDES VIANA TOMAZ     KEITH RICHARD BRAUER SALES\n",
      "n =  24\n",
      "GUILHERME ASSIS PINTO MOURA     RODRIGO COIMBRA PEREIRA ALVES\n",
      "n =  22\n",
      "VIVIANNE BASILIO BARBOSA     SAMANTHA JULLY MESQUITA GONCALVES\n",
      "n =  20\n",
      "DIEGO SIER DE FARIA     RILBERTE COSTA RIBEIRO\n",
      "n =  18\n",
      "ALINE RIBEIRO     RAFAEL GROSSI E FONSECA\n",
      "n =  16\n",
      "MATHEUS VIDIGAL SCHIAVON     DAVI GONCALVES BRANDAO\n",
      "n =  14\n",
      "EDUARDO VIDAL ARAGAO     SAMUEL MOL HOLMQUIST\n",
      "n =  12\n",
      "MIGUEL FRANCISCO BOSSONI BARRETO     GABRIELA TAVARES BARRETO\n",
      "n =  10\n",
      "JOEL JONATA RIBEIRO     LUISA VARGAS COSTA FREITAS\n",
      "n =  8\n",
      "VINICIUS AGUIAR CARDOSO GODINHO BALIZA     ARTUR ALMEIDA DIAS\n",
      "n =  6\n",
      "BARBARA REGINA MELO RIBEIRO     JANE ELISA ROCHA GUIMARAES\n",
      "n =  4\n",
      "LAIS DE FIGUEIREDO MAIA     GUILHERME ANTONIO DE SOUZA\n",
      "n =  2\n",
      "GIULIA FONTANA PENA     DAVI VASCONCELOS COURA FERREIRA\n",
      "n =  0\n"
     ]
    }
   ],
   "source": [
    "n = a.size\n",
    "print(n)\n",
    "dupla = []\n",
    "\n",
    "while (n > 1):\n",
    "    pair = random.sample(set(a),2)\n",
    "    p0, = np.where(a == pair[0])[0]\n",
    "    p1, = np.where(a == pair[1])[0]\n",
    "    print(al.nome[pair[0]], '   ', al.nome[pair[1]])\n",
    "    a = np.delete(a,[p0,p1])\n",
    "    n = a.size\n",
    "    print('n = ', n)"
   ]
  },
  {
   "cell_type": "code",
   "execution_count": 15,
   "metadata": {},
   "outputs": [
    {
     "data": {
      "text/plain": [
       "0"
      ]
     },
     "execution_count": 15,
     "metadata": {},
     "output_type": "execute_result"
    }
   ],
   "source": [
    "n"
   ]
  },
  {
   "cell_type": "code",
   "execution_count": null,
   "metadata": {},
   "outputs": [],
   "source": []
  }
 ],
 "metadata": {
  "kernelspec": {
   "display_name": "Python 3",
   "language": "python",
   "name": "python3"
  },
  "language_info": {
   "codemirror_mode": {
    "name": "ipython",
    "version": 3
   },
   "file_extension": ".py",
   "mimetype": "text/x-python",
   "name": "python",
   "nbconvert_exporter": "python",
   "pygments_lexer": "ipython3",
   "version": "3.5.3"
  }
 },
 "nbformat": 4,
 "nbformat_minor": 2
}
