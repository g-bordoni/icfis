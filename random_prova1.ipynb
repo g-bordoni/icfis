{
 "cells": [
  {
   "cell_type": "code",
   "execution_count": 2,
   "metadata": {},
   "outputs": [],
   "source": [
    "import pandas\n",
    "import numpy as np\n",
    "import random"
   ]
  },
  {
   "cell_type": "code",
   "execution_count": 3,
   "metadata": {},
   "outputs": [],
   "source": [
    "al = pandas.read_csv('alumni/20182_DIG.csv',header=2,names=['index','mat','nome'])"
   ]
  },
  {
   "cell_type": "code",
   "execution_count": 4,
   "metadata": {},
   "outputs": [
    {
     "data": {
      "text/plain": [
       "41"
      ]
     },
     "execution_count": 4,
     "metadata": {},
     "output_type": "execute_result"
    }
   ],
   "source": [
    "numero_alunos = al.nome.size\n",
    "numero_alunos"
   ]
  },
  {
   "cell_type": "code",
   "execution_count": 5,
   "metadata": {},
   "outputs": [
    {
     "data": {
      "text/plain": [
       "(15, 25)"
      ]
     },
     "execution_count": 5,
     "metadata": {},
     "output_type": "execute_result"
    }
   ],
   "source": [
    "# alunos que fizeram truncamento\n",
    "t1, = (np.where(al.nome[:] == 'IAN BARUC COSTA E SILVA'))[0]\n",
    "t2, = (np.where(al.nome[:] == 'LUIZ HENRIQUE SILVA MIRANDA'))\n",
    "t2 = t2[0]\n",
    "t1, t2"
   ]
  },
  {
   "cell_type": "code",
   "execution_count": 12,
   "metadata": {},
   "outputs": [],
   "source": [
    "a = np.arange(0,41)\n",
    "a = np.delete(a,[t1,t2])"
   ]
  },
  {
   "cell_type": "code",
   "execution_count": 22,
   "metadata": {},
   "outputs": [
    {
     "name": "stdout",
     "output_type": "stream",
     "text": [
      "24\n",
      "GUILHERME PONTELO SANTOS     VINICIUS MARTINHO CUNHA\n",
      "23\n"
     ]
    },
    {
     "data": {
      "text/plain": [
       "23"
      ]
     },
     "execution_count": 22,
     "metadata": {},
     "output_type": "execute_result"
    }
   ],
   "source": [
    "n = a.size\n",
    "print(n)\n",
    "dupla = []\n",
    "pair = random.sample(set(a),2)\n",
    "#print(pair)\n",
    "print(al.nome[pair[0]], '   ', al.nome[pair[1]])\n",
    "dupla.append(pair)\n",
    "a = np.delete(a,pair[:])\n",
    "a\n",
    "print(a.size)\n",
    "n = a.size\n",
    "n"
   ]
  },
  {
   "cell_type": "code",
   "execution_count": null,
   "metadata": {},
   "outputs": [],
   "source": []
  }
 ],
 "metadata": {
  "kernelspec": {
   "display_name": "Python 3",
   "language": "python",
   "name": "python3"
  },
  "language_info": {
   "codemirror_mode": {
    "name": "ipython",
    "version": 3
   },
   "file_extension": ".py",
   "mimetype": "text/x-python",
   "name": "python",
   "nbconvert_exporter": "python",
   "pygments_lexer": "ipython3",
   "version": "3.6.6"
  }
 },
 "nbformat": 4,
 "nbformat_minor": 2
}
