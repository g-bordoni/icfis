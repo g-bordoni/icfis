{
 "cells": [
  {
   "cell_type": "code",
   "execution_count": 1,
   "metadata": {},
   "outputs": [],
   "source": [
    "import pandas\n",
    "import numpy as np\n",
    "import random"
   ]
  },
  {
   "cell_type": "code",
   "execution_count": 2,
   "metadata": {},
   "outputs": [],
   "source": [
    "al = pandas.read_csv('alumni/20182_DIG.csv',header=2,names=['index','mat','nome'])"
   ]
  },
  {
   "cell_type": "code",
   "execution_count": 3,
   "metadata": {},
   "outputs": [
    {
     "data": {
      "text/plain": [
       "41"
      ]
     },
     "execution_count": 3,
     "metadata": {},
     "output_type": "execute_result"
    }
   ],
   "source": [
    "numero_alunos = al.nome.size\n",
    "numero_alunos"
   ]
  },
  {
   "cell_type": "code",
   "execution_count": 4,
   "metadata": {},
   "outputs": [
    {
     "data": {
      "text/plain": [
       "(15, 25)"
      ]
     },
     "execution_count": 4,
     "metadata": {},
     "output_type": "execute_result"
    }
   ],
   "source": [
    "# alunos que fizeram truncamento\n",
    "t1, = (np.where(al.nome[:] == 'IAN BARUC COSTA E SILVA'))[0]\n",
    "t2, = (np.where(al.nome[:] == 'LUIZ HENRIQUE SILVA MIRANDA'))\n",
    "t2 = t2[0]\n",
    "t1, t2"
   ]
  },
  {
   "cell_type": "code",
   "execution_count": 27,
   "metadata": {},
   "outputs": [
    {
     "data": {
      "text/plain": [
       "array([ 0,  1,  2,  3,  4,  5,  6,  7,  8,  9, 10, 11, 12, 13, 14, 16, 17,\n",
       "       18, 19, 20, 21, 22, 23, 24, 26, 27, 28, 29, 30, 31, 32, 33, 34, 35,\n",
       "       36, 37, 38, 39, 40])"
      ]
     },
     "execution_count": 27,
     "metadata": {},
     "output_type": "execute_result"
    }
   ],
   "source": [
    "a = np.arange(0,41)\n",
    "a = np.delete(a,[t1,t2])\n",
    "a"
   ]
  },
  {
   "cell_type": "code",
   "execution_count": 28,
   "metadata": {},
   "outputs": [
    {
     "name": "stdout",
     "output_type": "stream",
     "text": [
      "PAULO VITOR DE OLIVEIRA     ALINE ANDRADE DO NASCIMENTO\n",
      "37\n",
      "BEATRIZ DE SOUZA PANCRACIO DE ERRICO     FERNANDO AUGUSTO DE ALCANTARA TEOFILO\n",
      "35\n",
      "MATEUS DAMASCENO SODRE MENDES     WELESSON HENRIQUE NATANAEL SILVA\n",
      "34\n",
      "FELIPE DE MORAIS MURTA     VINICIUS MARTINHO CUNHA\n",
      "33\n",
      "VINICIUS MARTINHO CUNHA     LUCAS EMANUEL ANTUNES PORTO\n",
      "32\n",
      "FERNANDO AUGUSTO DE ALCANTARA TEOFILO     DOUGLAS VILELA DE PAIVA SILVA\n",
      "30\n",
      "LETICIA LIMA RIOS RIOGA     THIAGO SENIUK CARRARA\n",
      "29\n",
      "VICTORIA BERTOLDO ROCHA     YURI BERNARDES MARCAL\n",
      "29\n",
      "ANA CLARA MAGALHAES BARCELOS     ICARO GABRIEL GARCIA\n",
      "27\n",
      "CLEVERSON GOMES CARVALHO     YURI BERNARDES MARCAL\n",
      "26\n",
      "ICARO GABRIEL GARCIA     LUCAS EMANUEL ANTUNES PORTO\n",
      "24\n",
      "YURI BERNARDES MARCAL     WELESSON HENRIQUE NATANAEL SILVA\n",
      "24\n",
      "LETICIA LIMA RIOS RIOGA     YURI BERNARDES MARCAL\n",
      "23\n",
      "JOAO VICTOR RAMOS OLIVEIRA     VINICIUS MARTINHO CUNHA\n",
      "22\n",
      "PAULO VITOR DE OLIVEIRA     LETICIA LIMA RIOS RIOGA\n",
      "21\n",
      "ERROL MARCAL RODRIGUES JUNIOR     LIVIA MARIA BARROS CAMPOS\n",
      "20\n",
      "GABRIEL MORARI BORDONI     FERNANDO AUGUSTO DE ALCANTARA TEOFILO\n",
      "18\n",
      "JOAO RAFAEL DE SOUZA REIS     DOUGLAS VILELA DE PAIVA SILVA\n",
      "17\n",
      "BEATRIZ DE SOUZA PANCRACIO DE ERRICO     MURILLO ALVARO BORGES DE SOUSA\n",
      "16\n"
     ]
    },
    {
     "name": "stderr",
     "output_type": "stream",
     "text": [
      "/usr/local/lib/python3.5/dist-packages/ipykernel_launcher.py:8: DeprecationWarning: in the future out of bounds indices will raise an error instead of being ignored by `numpy.delete`.\n",
      "  \n"
     ]
    }
   ],
   "source": [
    "n = a.size\n",
    "dupla = []\n",
    "while (n > 2):\n",
    "    pair = random.sample(set(a),2)\n",
    "    #print(pair)\n",
    "    print(al.nome[pair[0]], '   ', al.nome[pair[1]])\n",
    "    dupla.append(pair)\n",
    "    a = np.delete(a,pair)\n",
    "    print(a.size)\n",
    "    n -= 2\n",
    "dupla = np.array(dupla)"
   ]
  },
  {
   "cell_type": "code",
   "execution_count": 30,
   "metadata": {},
   "outputs": [
    {
     "data": {
      "text/plain": [
       "array([[31,  0],\n",
       "       [ 3, 10],\n",
       "       [28, 39],\n",
       "       [ 9, 38],\n",
       "       [38, 22],\n",
       "       [10,  6],\n",
       "       [20, 36],\n",
       "       [37, 40],\n",
       "       [ 1, 16],\n",
       "       [ 5, 40],\n",
       "       [16, 22],\n",
       "       [40, 39],\n",
       "       [20, 40],\n",
       "       [19, 38],\n",
       "       [31, 20],\n",
       "       [ 7, 21],\n",
       "       [13, 10],\n",
       "       [18,  6],\n",
       "       [ 3, 30]])"
      ]
     },
     "execution_count": 30,
     "metadata": {},
     "output_type": "execute_result"
    }
   ],
   "source": [
    "dupla"
   ]
  },
  {
   "cell_type": "code",
   "execution_count": null,
   "metadata": {},
   "outputs": [],
   "source": []
  }
 ],
 "metadata": {
  "kernelspec": {
   "display_name": "Python 3",
   "language": "python",
   "name": "python3"
  },
  "language_info": {
   "codemirror_mode": {
    "name": "ipython",
    "version": 3
   },
   "file_extension": ".py",
   "mimetype": "text/x-python",
   "name": "python",
   "nbconvert_exporter": "python",
   "pygments_lexer": "ipython3",
   "version": "3.5.3"
  }
 },
 "nbformat": 4,
 "nbformat_minor": 2
}
