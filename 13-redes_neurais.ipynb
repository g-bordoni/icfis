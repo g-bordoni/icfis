{
 "cells": [
  {
   "cell_type": "markdown",
   "metadata": {},
   "source": [
    "## Redes neurais e aprendizado de máquina\n",
    "\n",
    "Nossa aula baseiase no livro online: [Neural Networks and Deep Learning](http://neuralnetworksanddeeplearning.com/index.html) de Michael Nilsen.\n",
    "\n",
    "Vamos a aprender os conceitos de redes neurais e aprendizado de máquina enquanto \n",
    "usamos um algoritmo para reconhecer números escritos a mao. \n",
    "\n",
    "<img src=\"Figs/digits.png\" width=40% >\n",
    "\n",
    "Seguiremos as minhas [notas de aula](./redes_neurais.pdf). \n",
    "\n",
    "O código e os dados podem ser baixados da conta de github de [Michal Daniel Dobrzanski](https://github.com/MichalDanielDobrzanski/DeepLearningPython35).\n",
    "\n",
    "Abaixo usamos o codigo para reconhecer numeros da base de dados MNIST.\n"
   ]
  },
  {
   "cell_type": "code",
   "execution_count": 1,
   "metadata": {},
   "outputs": [
    {
     "name": "stdout",
     "output_type": "stream",
     "text": [
      "/home/guerrero/Gh-projects/icfis/DeepLearningPython35-master\n"
     ]
    }
   ],
   "source": [
    "# Vamos primeiro ao diretorio do codigo\n",
    "cd DeepLearningPython35-master/"
   ]
  },
  {
   "cell_type": "code",
   "execution_count": 7,
   "metadata": {},
   "outputs": [],
   "source": [
    "# Importamos o modulo para ler os dados que se encontram\n",
    "# no arquivo mnist.pkl.gz\n",
    "\n",
    "import mnist_loader"
   ]
  },
  {
   "cell_type": "code",
   "execution_count": 3,
   "metadata": {},
   "outputs": [],
   "source": [
    "# Agora lemos os dados\n",
    "\n",
    "training_data, validation_data, test_data =  mnist_loader.load_data_wrapper()"
   ]
  },
  {
   "cell_type": "code",
   "execution_count": 4,
   "metadata": {},
   "outputs": [],
   "source": [
    "# Importamos o modulo da rede neural\n",
    "\n",
    "import network"
   ]
  },
  {
   "cell_type": "code",
   "execution_count": 5,
   "metadata": {},
   "outputs": [],
   "source": [
    "# A classe network cria uma rede com 3 camadas\n",
    "# a primeira tem as informações de cada digito: 784 bits\n",
    "# a segunda o tamanho da camada oculta: para o caso usamos só 10 neuronios\n",
    "# a terceira tem o tamanho da saida: sao 10 neuronios pois os numeros vao de 0 a 9\n",
    "\n",
    "net = network.Network([784, 10, 10])"
   ]
  },
  {
   "cell_type": "code",
   "execution_count": 6,
   "metadata": {},
   "outputs": [
    {
     "name": "stdout",
     "output_type": "stream",
     "text": [
      "Epoch 0 : 8811 / 10000\n",
      "Epoch 1 : 8862 / 10000\n",
      "Epoch 2 : 8947 / 10000\n",
      "Epoch 3 : 9017 / 10000\n",
      "Epoch 4 : 9020 / 10000\n",
      "Epoch 5 : 9006 / 10000\n",
      "Epoch 6 : 9090 / 10000\n",
      "Epoch 7 : 9092 / 10000\n",
      "Epoch 8 : 9124 / 10000\n",
      "Epoch 9 : 9139 / 10000\n",
      "Epoch 10 : 9163 / 10000\n",
      "Epoch 11 : 9078 / 10000\n",
      "Epoch 12 : 9113 / 10000\n",
      "Epoch 13 : 9107 / 10000\n",
      "Epoch 14 : 9115 / 10000\n",
      "Epoch 15 : 9164 / 10000\n",
      "Epoch 16 : 9164 / 10000\n",
      "Epoch 17 : 9175 / 10000\n",
      "Epoch 18 : 9173 / 10000\n",
      "Epoch 19 : 9162 / 10000\n",
      "Epoch 20 : 9149 / 10000\n",
      "Epoch 21 : 9150 / 10000\n",
      "Epoch 22 : 9170 / 10000\n",
      "Epoch 23 : 9168 / 10000\n",
      "Epoch 24 : 9166 / 10000\n",
      "Epoch 25 : 9171 / 10000\n",
      "Epoch 26 : 9172 / 10000\n",
      "Epoch 27 : 9181 / 10000\n",
      "Epoch 28 : 9145 / 10000\n",
      "Epoch 29 : 9136 / 10000\n"
     ]
    }
   ],
   "source": [
    "# Com essa rede criada, agora treinamos e testamos a rede\n",
    "# vamos ter 30 epocas, cada época vai considerar 10 numeros\n",
    "# a taxa de aprendizado é 3\n",
    "\n",
    "net.SGD(training_data, 30, 10, 3.0, test_data=test_data)"
   ]
  },
  {
   "cell_type": "code",
   "execution_count": null,
   "metadata": {},
   "outputs": [],
   "source": []
  }
 ],
 "metadata": {
  "kernelspec": {
   "display_name": "Python 3",
   "language": "python",
   "name": "python3"
  },
  "language_info": {
   "codemirror_mode": {
    "name": "ipython",
    "version": 3
   },
   "file_extension": ".py",
   "mimetype": "text/x-python",
   "name": "python",
   "nbconvert_exporter": "python",
   "pygments_lexer": "ipython3",
   "version": "3.5.3"
  }
 },
 "nbformat": 4,
 "nbformat_minor": 2
}
