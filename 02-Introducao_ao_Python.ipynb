{
 "cells": [
  {
   "cell_type": "markdown",
   "metadata": {},
   "source": [
    "# Introdução a Python\n",
    "\n",
    "Gustavo Guerrero  \n",
    "guerrero@fisica.ufmg.br  \n",
    "Sala 4120\n",
    "\n",
    "Aulas baseadas em:\n",
    "1. [Scientific Computing with Python](https://github.com/jrjohansson/scientific-python-lectures)\n",
    "2. [Scipy Lecture Notes](https://www.scipy-lectures.org/)\n",
    "\n",
    "\n",
    "## Arquivos de Python\n",
    "\n",
    "* Os arquivos de Python terminam com a extensão \".py\"\n",
    "\n",
    "  \n",
    "  olamundo.py\n",
    "  \n",
    "* Cada linha de num programa de Python é considerada um comando (ou parte dele)\n",
    "     * A unica excepção são as linhas que começam com \"#\", que permitem comentar o código. Esas linhas são ignoradas pelo interpretador\n",
    "     \n",
    "* Vamos a abrir o terminal com o editor Vim e escrever\n",
    "\n",
    "        print, \"ola mundo\"\n",
    "        \n",
    "  salvamos e saímos com \":wq\"\n",
    "  \n",
    "    \n",
    "     \n",
    "* Para rodar um programa de Python na terminal usamos \n",
    "\n",
    "         $ python olamundo.py\n",
    "      \n",
    "\n",
    "* Nos sistemas Unix (linux por exemplo) é común definir o interpretador de Python na primeira linha do programa:\n",
    "\n",
    "      #!/usr/bin/env python \n",
    "     \n",
    "Se fazemos isso, e damos ao programa permissão para ser executável, podemos rodaro o program usando unicamente\n",
    "\n",
    "         $ ./olamundo.py\n",
    "\n",
    "\n",
    "## Codificação de caracteres \n",
    "\n",
    "A codificação padrão é ASCII, mas como vimos nas aulas de Latex, essa codificação não permite usar os caracteres com acento em portugués.  Se queremos usar portugués no código em Python, mesmo até nos comentários, usamos:\n",
    "\n",
    "        # -*- coding: UTF-8 -*-\n",
    "        \n",
    "## IPython notebooks\n",
    "\n",
    "Os notebooks de Python, que se salvam com extensão \".ipynb\", tal como esse arquivo aqui, não segue os padrões de Python mas o formato [JSON](https://en.wikipedia.org/wiki/JSON). A vantagem é que podemos misturar texto, código de Python, e saídas do código. Precisa de um servidor de IPython para poder rodar, portanto não é um programa de Python por sim. Iremos usar o Jupyter. \n",
    "\n",
    "## Tipos de variáveis\n",
    "\n",
    "Os nomes das variáveis podem conter carateres alfanumericos, `a-z`, `A-Z`, `0-9`, e alguns caracteres especiais como `_`.  \n",
    "\n",
    "Por convenção, os nomes das variáveis começam com minuscula, os nomes das classes com maiúscula.  \n",
    "\n",
    "Python tém um certo numero de variáveis que não podem ser usados pelo usuario:\n",
    "\n",
    "    and, as, assert, break, class, continue, def, del, elif, else, except, \n",
    "    exec, finally, for, from, global, if, import, in, is, lambda, not, or,\n",
    "    pass, print, raise, return, try, while, with, yield\n",
    "\n",
    "Python suporta os seguintes tipos de variáveis numéricas:"
   ]
  },
  {
   "cell_type": "markdown",
   "metadata": {},
   "source": [
    "### Inteiros"
   ]
  },
  {
   "cell_type": "code",
   "execution_count": 6,
   "metadata": {},
   "outputs": [
    {
     "data": {
      "text/plain": [
       "int"
      ]
     },
     "execution_count": 6,
     "metadata": {},
     "output_type": "execute_result"
    }
   ],
   "source": [
    "x = 1\n",
    "type(x)"
   ]
  },
  {
   "cell_type": "code",
   "execution_count": 7,
   "metadata": {},
   "outputs": [
    {
     "data": {
      "text/plain": [
       "2"
      ]
     },
     "execution_count": 7,
     "metadata": {},
     "output_type": "execute_result"
    }
   ],
   "source": [
    "1 + 1"
   ]
  },
  {
   "cell_type": "markdown",
   "metadata": {},
   "source": [
    "### Reais de ponto flutuante (floats)"
   ]
  },
  {
   "cell_type": "code",
   "execution_count": 8,
   "metadata": {},
   "outputs": [
    {
     "data": {
      "text/plain": [
       "float"
      ]
     },
     "execution_count": 8,
     "metadata": {},
     "output_type": "execute_result"
    }
   ],
   "source": [
    "x = 1.0\n",
    "type(x)"
   ]
  },
  {
   "cell_type": "markdown",
   "metadata": {},
   "source": [
    "### Complexos"
   ]
  },
  {
   "cell_type": "code",
   "execution_count": 12,
   "metadata": {},
   "outputs": [
    {
     "name": "stdout",
     "output_type": "stream",
     "text": [
      "parte real de a =  1.5\n",
      "parte imaginaria de a =  0.5\n"
     ]
    }
   ],
   "source": [
    "# definimos numeros complexos assim\n",
    "a = 1.5 + 0.5j\n",
    "print \"parte real de a = \", a.real\n",
    "print \"parte imaginaria de a = \", a.imag"
   ]
  },
  {
   "cell_type": "markdown",
   "metadata": {},
   "source": [
    "### Boleanos"
   ]
  },
  {
   "cell_type": "code",
   "execution_count": 13,
   "metadata": {},
   "outputs": [
    {
     "data": {
      "text/plain": [
       "False"
      ]
     },
     "execution_count": 13,
     "metadata": {},
     "output_type": "execute_result"
    }
   ],
   "source": [
    "3 > 4"
   ]
  },
  {
   "cell_type": "code",
   "execution_count": 15,
   "metadata": {},
   "outputs": [
    {
     "data": {
      "text/plain": [
       "False"
      ]
     },
     "execution_count": 15,
     "metadata": {},
     "output_type": "execute_result"
    }
   ],
   "source": [
    "teste = (3 > 4)\n",
    "teste\n",
    "# nesse caso a variavel teste seria um boleano"
   ]
  },
  {
   "cell_type": "markdown",
   "metadata": {},
   "source": [
    "### Operações nativas\n",
    "\n",
    "Uma terminal com Python pode substituir a calculadora do computador usando as operações aritmeticas básicas, `+`, `-`, `*`, `/`, `%` (operação modulo). "
   ]
  },
  {
   "cell_type": "code",
   "execution_count": 18,
   "metadata": {},
   "outputs": [
    {
     "data": {
      "text/plain": [
       "21"
      ]
     },
     "execution_count": 18,
     "metadata": {},
     "output_type": "execute_result"
    }
   ],
   "source": [
    "7*3"
   ]
  },
  {
   "cell_type": "code",
   "execution_count": 19,
   "metadata": {},
   "outputs": [
    {
     "data": {
      "text/plain": [
       "1024"
      ]
     },
     "execution_count": 19,
     "metadata": {},
     "output_type": "execute_result"
    }
   ],
   "source": [
    "2**10"
   ]
  },
  {
   "cell_type": "code",
   "execution_count": 21,
   "metadata": {},
   "outputs": [
    {
     "data": {
      "text/plain": [
       "1"
      ]
     },
     "execution_count": 21,
     "metadata": {},
     "output_type": "execute_result"
    }
   ],
   "source": [
    "3/2"
   ]
  },
  {
   "cell_type": "code",
   "execution_count": 22,
   "metadata": {},
   "outputs": [
    {
     "data": {
      "text/plain": [
       "1.5"
      ]
     },
     "execution_count": 22,
     "metadata": {},
     "output_type": "execute_result"
    }
   ],
   "source": [
    "3/2."
   ]
  },
  {
   "cell_type": "code",
   "execution_count": 23,
   "metadata": {},
   "outputs": [
    {
     "data": {
      "text/plain": [
       "1.5"
      ]
     },
     "execution_count": 23,
     "metadata": {},
     "output_type": "execute_result"
    }
   ],
   "source": [
    "3/float(2)"
   ]
  },
  {
   "cell_type": "code",
   "execution_count": 24,
   "metadata": {},
   "outputs": [
    {
     "data": {
      "text/plain": [
       "1.0"
      ]
     },
     "execution_count": 24,
     "metadata": {},
     "output_type": "execute_result"
    }
   ],
   "source": [
    "float(3/2)"
   ]
  },
  {
   "cell_type": "markdown",
   "metadata": {},
   "source": [
    "### Strings e listas\n",
    "\n",
    "#### Strings\n",
    "\n",
    "São as variáveis que servem para armazenar texto"
   ]
  },
  {
   "cell_type": "code",
   "execution_count": 25,
   "metadata": {},
   "outputs": [
    {
     "data": {
      "text/plain": [
       "str"
      ]
     },
     "execution_count": 25,
     "metadata": {},
     "output_type": "execute_result"
    }
   ],
   "source": [
    "s= \"ola mundo\"\n",
    "type(s)"
   ]
  },
  {
   "cell_type": "code",
   "execution_count": 26,
   "metadata": {},
   "outputs": [
    {
     "data": {
      "text/plain": [
       "9"
      ]
     },
     "execution_count": 26,
     "metadata": {},
     "output_type": "execute_result"
    }
   ],
   "source": [
    "#no caso das variáveis string elas são armazenadas como uma lista\n",
    "len(s)"
   ]
  },
  {
   "cell_type": "code",
   "execution_count": 27,
   "metadata": {},
   "outputs": [
    {
     "data": {
      "text/plain": [
       "'o'"
      ]
     },
     "execution_count": 27,
     "metadata": {},
     "output_type": "execute_result"
    }
   ],
   "source": [
    "#os índices começam no 0\n",
    "s[0]"
   ]
  },
  {
   "cell_type": "code",
   "execution_count": 28,
   "metadata": {},
   "outputs": [
    {
     "data": {
      "text/plain": [
       "'o'"
      ]
     },
     "execution_count": 28,
     "metadata": {},
     "output_type": "execute_result"
    }
   ],
   "source": [
    "s[-1]"
   ]
  },
  {
   "cell_type": "code",
   "execution_count": null,
   "metadata": {},
   "outputs": [],
   "source": []
  }
 ],
 "metadata": {
  "kernelspec": {
   "display_name": "Python 2",
   "language": "python",
   "name": "python2"
  },
  "language_info": {
   "codemirror_mode": {
    "name": "ipython",
    "version": 2
   },
   "file_extension": ".py",
   "mimetype": "text/x-python",
   "name": "python",
   "nbconvert_exporter": "python",
   "pygments_lexer": "ipython2",
   "version": "2.7.12"
  }
 },
 "nbformat": 4,
 "nbformat_minor": 2
}
