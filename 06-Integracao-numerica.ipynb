{
 "cells": [
  {
   "cell_type": "markdown",
   "metadata": {},
   "source": [
    "## Integração numérica  \n",
    "\n",
    "\n",
    "Assim como derivadas, integrais são absolutamente necessárias em todas as áreas da física. \n",
    "Vamos aprender nesse capítulo a estimar numericamente a integral de funções em uma dimensão. \n",
    "\n",
    "Em termos práticos a integral entre os pontos $x=a$ e $x=b$ de uma função $f(x)$ corresponde à area baixo a curva trazada por $f(x)$ entre esses dois limites. \n",
    "\n",
    "Nosso objetivo é calcular:\n",
    "\n",
    "$$ I = \\int_a^b f(x) dx $$\n",
    "\n",
    "A integral pode ser feita somando quadrilateros embaixo da curva de $f(x)$,  por isso se\n",
    "chama *quadratura numérica* mesmo quando o método é mais sofisticado. Segundo Riemman uma\n",
    "integral é definida como:\n",
    "\n",
    "$$\n",
    "\\int_a^b f(x) dx = \\lim_{h \\rightarrow 0} \\left[ h \\sum_{i=1}^{(b-a)/h} f(x) \\right]\n",
    "$$\n",
    "\n",
    "A integração numérica é equivalente a soma finita de caixas de altura $f(x)$ e pesso $w_i$:\n",
    "\n",
    "$$\n",
    "\\int_a^b f(x) dx \\simeq  \\sum_{i=1}^{N} f(x) w_i \\;,  \n",
    "$$\n",
    "\n",
    "<img src=\"Figs/numerical_quadrature.jpeg\" width=50% >\n",
    "\n",
    "Note que $w_i$, a largura da caixa, não é necessáriamente igual em todos os pontos. Da escolha inteligente dessa largura dependem a **eficiência** e **precisão** dos métodos numéricos para integração numérica. \n",
    "\n",
    "Os algoritmos revisados a continuação consideram formas diferentes de escolher pontos e pessos. Estudaremos 2 métodos em detalhe,\n",
    "\n",
    "* Regra do trapecio\n",
    "* Regra de Simpson\n",
    "\n",
    "e revisaremos o modulo `scipy.integrate` que alem desses dois métodos reune rotinas de integração numérica mais sofisticadas.\n",
    "\n",
    "## Metodo do trapecio\n",
    "\n",
    "A regra do trapecio usa os valores de $f(x)$ em $N$ pontos de $x$ igualmente\n",
    "espaçados por uma distancia $h$. Logo\n",
    "\n",
    "$$\n",
    "h = \\frac{b-a}{N-1} \\;,  \\;\\; x_i = a + (i-1)h \\;, \\;\\; i = 1, ..., N\\; ,\n",
    "$$\n",
    "\n",
    "o método constroi uma linha reta entre cada intervalo de $i's$ e usa a altura média como o valor de $f$\n",
    "\n",
    "$$\n",
    "\\int_{x_i}^{x_i+h} f(x) dx = h \\frac{f_i + f_{i+1}}{2} \n",
    "$$\n",
    "\n",
    "<img src=\"Figs/trapecio.png\" width=50% >\n",
    "\n",
    "Assim para o intervalo total\n",
    "\n",
    "$$\n",
    "\\int_{a}^{b} f(x) dx = \\frac{h}{2} f_1 + h f_2 + ... + h f_{N-1} + \\frac{h}{2} f_N\n",
    "$$\n",
    "\n",
    "Logo: $w_i =\\left[ h/2, h, ..., h, h/2 \\right] $\n",
    "\n",
    "\n",
    "## Método de Simpson\n",
    "\n",
    "Para cada intervalo, a regra de Simpson aproxima $f(x)$ nao por uma\n",
    "reta senao por uma parabola:  $f(x) \\simeq \\alpha x^2 + \\beta x + \\gamma$.\n",
    "\n",
    "\n",
    "<img src=\"Figs/simpson.png\" width=50% >\n",
    "\n",
    "a área embaixo da parabola para cada intervalo é\n",
    "$$\n",
    "\\int_{x_i}^{x_i+h} f(x) dx = \\left[ \\frac{\\alpha x^3}{3} + \\frac{\\beta x^2}{2} + \\gamma x \\right]_{x_i}^{x_i+h}\n",
    "$$\n",
    "\n",
    "Se esse intervalo fosse $[-1,1]$, \n",
    "\n",
    "$$\n",
    "\\int_{-1}^{1} \\alpha x^2 + \\beta x + \\gamma  dx =  \\frac{2 \\alpha}{3} + 2 \\gamma \n",
    "$$\n",
    "\n",
    "Mas:\n",
    "$$\n",
    "f(-1) = \\alpha -\\beta + \\gamma \\;, \\; f(0) = \\gamma  \n",
    "$$\n",
    "\n",
    "\n",
    "$$\n",
    "f(1) = \\alpha + \\beta+ \\gamma\n",
    "$$\n",
    "\n",
    "\n",
    "$$\n",
    "\\alpha = \\frac{f(1) + f(-1)}{2} - f(0) \\;, \\;\\; \\beta = \\frac{f(1) - f(-1)}{2}  \\;, \\;\\; \\gamma = f(0) \n",
    "$$\n",
    "\n",
    "\n",
    "$$\n",
    "\\int_{-1}^{1} \\alpha x^2 + \\beta x + \\gamma  dx  = \\frac{f(-1)}{3} + \\frac{4f(0)}{3} + \\frac{f(1)}{3}\n",
    "$$\n",
    "\n",
    "Três valores de $f$ são necessarios para evaluar a integral nesse intervalo.\n",
    "Generalizando:\n",
    "\n",
    "$$\n",
    "\\int_{x_i-h}^{x_i+h} f(x)  dx  = \\int_{x_i}^{x_i+h} f(x)  dx + \\int_{x_i-h}^{x_i} f(x)  dx  \n",
    "        \\simeq \\frac{h f_{i-1}}{3} + \\frac{4 h f_{i}}{3} + \\frac{h f_{i+1}}{3}  \n",
    "$$\n",
    "\n",
    "A regra de Simpson requer integração sob pares de intervalos, logo \\textcolor{red}{um numero par\n",
    "de intervalos é necessario, ou $N$ impar. Somando as contribuições de todos os pares de intervalos:\n",
    "\n",
    "\n",
    "$$\n",
    "\\int_{a}^{b} f(x) dx = \\frac{h}{3} f_1 +  \\frac{4h}{3} f_2 +  \\frac{2h}{3} f_3 + \\frac{4h}{3} f_4 +\n",
    "         ... + \\frac{4h}{3} f_{N-1} + \\frac{h}{3} f_N\n",
    "$$\n",
    "\n",
    "## Erro na integração numérica\n",
    "\n",
    "**A ideia é obter uma regra de integração que de uma resposta precisa com o\n",
    "menor numero de pontos, $N$**. O erro algorítmico e o erro relativo podem ser\n",
    "estimados expandindo $f(x)$ em serie de Taylor arredor do ponto médio do intervalo\n",
    "de integração, e multiplicamos pelo número de intervalos.  Isto leva a:\n",
    "\n",
    "$$\n",
    "{\\cal E}_t = {\\cal O} \\left( \\frac{|b-a|^3 }{N^2}  \\right) f^{(2)} \\;, \\; \n",
    "{\\cal E}_S = {\\cal O} \\left( \\frac{|b-a|^5 }{N^4}  \\right) f^{(4)} \\;, \\;\n",
    "\\epsilon = \\frac{{\\cal E}_{t,s}}{f} \n",
    "$$\n",
    "\n",
    "Aumentar a complexidade da integração leva a um erro que decresce com\n",
    "o inverso de $N$ elevado a uma potencia cada vez maior. Porem, o erro é tambem\n",
    "proporcional a derivadas de alta ordem de $f$. Por tanto para intervalos pequenos\n",
    "e funções $f$ com derivadas `bem comportadas`,  a regra de Simpson deve\n",
    "convergir mais rapido que  a regra do trapecio.\n",
    "\n",
    "Para estimar o erro, assumimos que o erro de `round-off` é randômico e tem a forma:\n",
    "\n",
    "$$\n",
    "\\epsilon_{ro} = \\sqrt{N} \\epsilon_m \\;, \\; \\epsilon_m \\sim 10^{-7} \\; {\\rm (single)} \n",
    "                                      \\;, 10^{-15} \\; \\; {\\rm (double)} \\;, \n",
    "$$\n",
    "\n",
    "como vimos, $\\epsilon_m$ é a precisão da máquina. Como no capítulo anterior, Queremos encontrar o $N$ que minimiza o erro total: \n",
    "\n",
    "$$\n",
    "\\epsilon_{tot} \\simeq \\epsilon_{ro} + \\epsilon_{t,S} \\;.\n",
    "$$\n",
    "\n",
    "Isto acontece quando os dois são da mesma ordem. Vamos assumir que são iguais:\n",
    "\n",
    "$$\n",
    "\\epsilon_{ro} = \\epsilon_{t,S} =  \\frac{{\\cal E}_{t,S}}{f}  \\;.\n",
    "$$\n",
    "\n",
    "Também assumimos que $f^{(n)}/f \\simeq 1$, e $(b-a) = 1$. Então teremos para a **regra do trapecio** temos:\n",
    "\n",
    "$$\n",
    "\\sqrt{N} \\epsilon_t = \\frac{f^{(2)} (b-a)^3}{f N^2} = \\frac{1}{N^2}\n",
    "$$\n",
    "\n",
    "$$\n",
    "N \\simeq \\frac{1}{\\epsilon_t^{2/5}} = 10^6 \\;, \\; \\epsilon_{ro} \\simeq \\sqrt{N} \\epsilon_t = 5 \\times 10^{-12}\n",
    "$$\n",
    "\n",
    "Já para o **método de Simpson** :\n",
    "\n",
    "$$\n",
    "\\sqrt{N} \\epsilon_S = \\frac{f^{(4)} (b-a)^5}{f N^4} = \\frac{1}{N^4}\n",
    "$$\n",
    "\n",
    "$$\n",
    "N \\simeq \\frac{1}{\\epsilon_S^{2/9}} = 2154 \\;,\n",
    "$$ \n",
    "\n",
    "$$\n",
    "\\epsilon_{ro} \\simeq \\sqrt{N} \\epsilon_S = 5 \\times 10^{-14}\n",
    "$$ \n",
    "\n",
    "Em resumo temos\n",
    "\n",
    "* A regra de Simpson é melhor que a regra do trapecio.\n",
    "\n",
    "* É possível atingir a precisão da máquina na integral com a regra de Simpson\n",
    "(e com algoritmos de ordem maior)\n",
    "\n",
    "* A melhor approximação numérica não é atingida fazendo $N \\rightarrow \\infty$,\n",
    "mas com um valor relativamente pequeno, $N \\le 1000$.\n",
    "\n",
    "\n",
    "\n"
   ]
  },
  {
   "cell_type": "code",
   "execution_count": 47,
   "metadata": {},
   "outputs": [],
   "source": [
    "%matplotlib inline\n",
    "import numpy as np\n",
    "import matplotlib.pylab as plt"
   ]
  },
  {
   "cell_type": "code",
   "execution_count": 60,
   "metadata": {},
   "outputs": [],
   "source": [
    "def trapezio(a, b, N):\n",
    "    '''Função que realiza a integração pelo método do trapézio.'''\n",
    "    x = np.linspace(a,b,N)\n",
    "    h = x[1]-x[0]\n",
    "    integral = h*0.5*(f(x[0]) + f(x[-1]))\n",
    "    for xi in x[1:-1]:\n",
    "        integral += h*f(xi)\n",
    "    return integral\n",
    "\n",
    "def simpson(a, b, N):\n",
    "    '''Função que realiza a integração pelo método de Simpson.'''\n",
    "    x = np.linspace(a,b,N)\n",
    "    h = x[1]-x[0]\n",
    "    integral = h/3*(f(x[0]) + f(x[-1]))\n",
    "    fac = 4\n",
    "    for xi in x[1:-1]:\n",
    "        integral += fac/3*h*f(xi)\n",
    "        fac = (2 if fac == 4 else 4)\n",
    "    return integral"
   ]
  },
  {
   "cell_type": "code",
   "execution_count": 73,
   "metadata": {},
   "outputs": [],
   "source": [
    "##### Definindo f(x) = e^(-x)\n",
    "def f(x):\n",
    "    return np.exp(-x)"
   ]
  },
  {
   "cell_type": "code",
   "execution_count": 74,
   "metadata": {},
   "outputs": [
    {
     "name": "stdout",
     "output_type": "stream",
     "text": [
      "Integração pelo método do trapézio: 3.1415752997094675 com N = 99\n",
      "Integração pelo método de Simpson: 3.1415926535897487 com N = 99\n"
     ]
    }
   ],
   "source": [
    "# Integrando de 0 a 1 pelos métodos implementados acima\n",
    "a = 0.\n",
    "b = 1.\n",
    "N = 99\n",
    "trap = trapezio(a,b,N)\n",
    "simp = simpson(a,b,N)\n",
    "print('Integração pelo método do trapézio:', trap, 'com N =', N)\n",
    "print('Integração pelo método de Simpson:', simp, 'com N =', N)"
   ]
  },
  {
   "cell_type": "code",
   "execution_count": 65,
   "metadata": {},
   "outputs": [
    {
     "data": {
      "text/plain": [
       "0.6321205588285577"
      ]
     },
     "execution_count": 65,
     "metadata": {},
     "output_type": "execute_result"
    }
   ],
   "source": [
    "ex_int = 1. - 1./np.e\n",
    "ex_int"
   ]
  },
  {
   "cell_type": "code",
   "execution_count": 69,
   "metadata": {},
   "outputs": [
    {
     "data": {
      "image/png": "[encoded data removed]",
      "text/plain": [
       "<Figure size 432x288 with 1 Axes>"
      ]
     },
     "metadata": {
      "needs_background": "light"
     },
     "output_type": "display_data"
    }
   ],
   "source": [
    "Nvec = [2**i for i in range(2,17)]\n",
    "F_exata = 1 - 1/np.e\n",
    "erro_trap = [abs(trapezio(a, b, n)-F_exata)/F_exata for n in Nvec]\n",
    "erro_simp = [abs(simpson(a, b, n)-F_exata)/F_exata for n in Nvec]\n",
    "\n",
    "plt.loglog(Nvec, erro_trap,lw=3, color='orange', label='Trapézio')\n",
    "plt.loglog(Nvec, erro_simp,lw=3, color='blue', label='Simpson')\n",
    "plt.title(\"Erro no métodos de integração\")\n",
    "plt.legend()\n",
    "plt.show()"
   ]
  },
  {
   "cell_type": "markdown",
   "metadata": {},
   "source": [
    "## Scipy Integrate\n",
    "### (scipy.integrate)\n",
    "\n",
    "Provee várias rotinas de integração numérica com diferentes métodos. Para usar devemos importar o modulo scipy, ou diretamente o sub-modulo scipy.integrate\n"
   ]
  },
  {
   "cell_type": "code",
   "execution_count": 86,
   "metadata": {},
   "outputs": [],
   "source": [
    "import scipy.integrate as integrate\n",
    "x = np.linspace(0.,1.,50)\n",
    "def f(x):\n",
    "    return 4./(1.+x**2)"
   ]
  },
  {
   "cell_type": "code",
   "execution_count": 105,
   "metadata": {},
   "outputs": [
    {
     "name": "stdout",
     "output_type": "stream",
     "text": [
      "método do trapezio: 3.1415232380686264\n",
      "método de Simpson): 3.1415905296540054\n",
      "método de Simpson): (3.1415926535897927, None)\n"
     ]
    }
   ],
   "source": [
    "dx = x[1] - x[0]\n",
    "print('método do trapezio:', integrate.trapz(f(x),dx=dx))\n",
    "print('método de Simpson):', integrate.simps(f(x),dx=dx))\n",
    "print('método de Simpson):', integrate.fixed_quad(f,0,1.,n=20))"
   ]
  },
  {
   "cell_type": "code",
   "execution_count": 106,
   "metadata": {},
   "outputs": [
    {
     "data": {
      "text/plain": [
       "3.141592653589793"
      ]
     },
     "execution_count": 106,
     "metadata": {},
     "output_type": "execute_result"
    }
   ],
   "source": [
    "np.pi"
   ]
  },
  {
   "cell_type": "markdown",
   "metadata": {},
   "source": [
    "O método da quadratura Gaussiana é um dos mais eficientes para calcular integrais numéricas"
   ]
  },
  {
   "cell_type": "code",
   "execution_count": null,
   "metadata": {},
   "outputs": [],
   "source": []
  }
 ],
 "metadata": {
  "kernelspec": {
   "display_name": "Python 3",
   "language": "python",
   "name": "python3"
  },
  "language_info": {
   "codemirror_mode": {
    "name": "ipython",
    "version": 3
   },
   "file_extension": ".py",
   "mimetype": "text/x-python",
   "name": "python",
   "nbconvert_exporter": "python",
   "pygments_lexer": "ipython3",
   "version": "3.5.3"
  }
 },
 "nbformat": 4,
 "nbformat_minor": 2
}
