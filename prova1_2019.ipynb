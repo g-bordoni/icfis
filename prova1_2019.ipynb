{
 "cells": [
  {
   "cell_type": "markdown",
   "metadata": {},
   "source": [
    "# Prova 1\n",
    "# Introdução à computação em física\n",
    "## Professor: Gustavo Guerrero\n",
    "\n",
    "## Alunos: "
   ]
  },
  {
   "cell_type": "markdown",
   "metadata": {},
   "source": [
    "1. (a) 50% -- Uma forma simples de descrever a trajetoria de um planeta arredor do sol é usando funções harmônicas\n",
    "$$\n",
    "x_p = R \\cos(\\omega t)\n",
    "$$\n",
    "$$\n",
    "y_p = R \\sin(\\omega t)\n",
    "$$\n",
    "Onde $R$ é o raio do planeta e $\\omega = 2 \\pi/P$ a frequencia angular, $P$ é o período do planeta arredor do sol. Para a terra, $R = 1$ UA (Unidades astronómicas) e $P = 1$ ano. A terra, por sua vez, possui um satelite natural, a Lua, que tem um período de $P_L = 1/12$ anos (~1 mes), e está a uma distância da terra de $r_L = 0.025$ UA.  A posição da Lua num referencial incercial, similar ao do planeta, seria:\n",
    "$$\n",
    "x_s =  x_p + r \\cos(\\omega_s t)\n",
    "$$\n",
    "$$\n",
    "y_s = y_p  + r \\sin(\\omega_s t)\n",
    "$$\n",
    "Escreva uma classe que inicialice qualquer objeto que percorre uma trajetoria circular com um raio e um período determinados.  A classe deve inicializar o objeto, e ter funções que definam suas posições em $x$ e em $y$ para um determinado tempo $t$. A classe deve permitir a soma das coordenadas  para calcular a posição de satelites, conforme as equações acima.  Faça o gráfico das posições $x$ e $y$ como função do tempo, e também o grafico de todas as posições $x$ vs $y$ para todos os tempos. Considere $0 < t < 1$. \n",
    "\n",
    "    Considere também usar os valores $R = 0.5$ UA e $r_L = 0.2$ UA.  Discuta seus resultados. \n",
    "\n"
   ]
  },
  {
   "cell_type": "markdown",
   "metadata": {},
   "source": [
    "2. (a) 10% -- Escreva as equações de movimento de um corpo (segunda lei de Newton) em duas dimensões. Caso o corpo tenha posição e velocidade iniciais dadas por ($x_0,y_0$), ($v_{x_0},v_{y_0}$), e acelerações dadas por ($a_{x},a_{y}$), escreva a solução geral das equações de movimento, isto é $x$ e $y$ como função de $t$.\n",
    "\n",
    "    (b) 20%  -- Escreva uma clase que permita inicializar uma partícula com sua posição e velocidade iniciais, que tenha como instâncias as posições $x$ e $y$ em um tempo $t$. Experimente com os seguintes casos:\n",
    "    * $(x_0,y_0) = (0,0)$;  $(v_{x0},v_{y0}) = (3,4)$; $a_x = 0$, $a_y = -9.8$.\n",
    "    * $(x_0,y_0) = (0,0)$;  $(v_{x0},v_{y0}) = (5,5)$; $a_x = 0$, $a_y = -9.8$.\n",
    "    \n",
    "    Grafique e discuta seus resultados\n",
    "    \n",
    "   (c) 20% -- O vetor velocidade define um angulo de lançamento $\\theta$, considere a magnitude da velocidade inicial de lançamento, $v_0 = 10$ m/s, e varie o angulo $\\theta$ desde 85 até 5 graus.  Grafique e discuta. \n",
    "    "
   ]
  },
  {
   "cell_type": "code",
   "execution_count": null,
   "metadata": {
    "collapsed": true
   },
   "outputs": [],
   "source": []
  }
 ],
 "metadata": {
  "kernelspec": {
   "display_name": "Python 3",
   "language": "python",
   "name": "python3"
  },
  "language_info": {
   "codemirror_mode": {
    "name": "ipython",
    "version": 3
   },
   "file_extension": ".py",
   "mimetype": "text/x-python",
   "name": "python",
   "nbconvert_exporter": "python",
   "pygments_lexer": "ipython3",
   "version": "3.6.3"
  }
 },
 "nbformat": 4,
 "nbformat_minor": 2
}
