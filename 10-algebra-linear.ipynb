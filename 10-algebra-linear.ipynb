{
 "cells": [
  {
   "cell_type": "markdown",
   "metadata": {},
   "source": [
    "## Algebra matricial \n",
    "\n",
    "Nesse capitulo estudamos a forma de manipular matrices e vetores numéricamente. Usando\n",
    "esses objetos aprendemos como resolver sistemas de equações lineares que aparecem em\n",
    "muitas áreas da ciência.\n",
    "\n",
    "Mesmo estudando a forma de resolver sistemas de equações usando matrizes, não vamos escrever nossas rotinas mas usaremos as rotinas sofisticadas da biblioteca [`numpy.linalg`](https://docs.scipy.org/doc/numpy-1.13.0/reference/routines.linalg.html).\n"
   ]
  },
  {
   "cell_type": "markdown",
   "metadata": {},
   "source": [
    "###  propriedades matemáticas das matrizes\n",
    "\n",
    "Trabalharemos com matrizes do tipo  ${\\bf A}$ de  $n\\times n$ elementos, sendo  ${\\bf A}$\n",
    "real ou complexa. Ex:\n",
    "\n",
    "$$\n",
    "\\mathbf{A} =\n",
    "      \\begin{bmatrix} a_{11} & a_{12} & a_{13} & a_{14} \\\\\n",
    "                                 a_{21} & a_{22} & a_{23} & a_{24} \\\\\n",
    "                                   a_{31} & a_{32} & a_{33} & a_{34} \\\\\n",
    "                                  a_{41} & a_{42} & a_{43} & a_{44}\n",
    "             \\end{bmatrix}\\qquad\n",
    "\\mathbf{I} =\n",
    "      \\begin{bmatrix} 1 & 0 & 0 & 0 \\\\\n",
    "                                 0 & 1 & 0 & 0 \\\\\n",
    "                                 0 & 0 & 1 & 0 \\\\\n",
    "                                 0 & 0 & 0 & 1\n",
    "             \\end{bmatrix}\n",
    "$$\n",
    "\n",
    "\n",
    "O inverso dessa matriz, se existe, é tal que ${\\bf A}^{-1}\\cdot {\\bf A} = {\\bf I}$. $a_{ij}$ se refer  a um elemento da matriz na fila $i$ e na columna $j$.  Um vetor é um array  unidimensional, ${\\bf x}$, da forma:"
   ]
  },
  {
   "cell_type": "markdown",
   "metadata": {},
   "source": [
    "###  propriedades matemáticas das matrizes\n",
    "\n",
    "\n",
    "<table border=\"1\">\n",
    "<thead>\n",
    "<tr><th align=\"center\">              Relations               </th> <th align=\"center\">      Name     </th> <th align=\"center\">                            matrix elements                            </th> </tr>\n",
    "</thead>\n",
    "<tbody>\n",
    "<tr><td align=\"center\">   $A = A^{T}$                               </td> <td align=\"center\">   symmetric          </td> <td align=\"center\">   $a_{ij} = a_{ji}$                                                          </td> </tr>\n",
    "<tr><td align=\"center\">   $A = \\left (A^{T} \\right )^{-1}$          </td> <td align=\"center\">   real ortogonal    </td> <td align=\"center\">   $\\sum_k a_{ik} a_{jk} = \\sum_k a_{ki} a_{kj} = \\delta_{ij}$                </td> </tr>\n",
    "<tr><td align=\"center\">   $A = A^{ * }$                             </td> <td align=\"center\">   real matrix        </td> <td align=\"center\">   $a_{ij} = a_{ij}^{ * }$                                                    </td> </tr>\n",
    "<tr><td align=\"center\">   $A = A^{\\dagger}$                         </td> <td align=\"center\">   hermitian          </td> <td align=\"center\">   $a_{ij} = a_{ji}^{ * }$                                                    </td> </tr>\n",
    "<tr><td align=\"center\">   $A = \\left (A^{\\dagger} \\right )^{-1}$    </td> <td align=\"center\">   unitary            </td> <td align=\"center\">   $\\sum_k a_{ik} a_{jk}^{ * } = \\sum_k a_{ki}^{ * } a_{kj} = \\delta_{ij}$    </td> </tr>\n",
    "</tbody>\n",
    "</table>\n",
    "\n",
    "### Algumas matrizes famosas\n",
    "\n",
    "  * Diagonal if $a_{ij}=0$ for $i\\ne j$\n",
    "\n",
    "  * Upper triangular if $a_{ij}=0$ for $i > j$\n",
    "\n",
    "  * Lower triangular if $a_{ij}=0$ for $i < j$\n",
    "\n",
    "  * Tridiagonal if $a_{ij}=0$ for $|i -j| > 1$\n",
    "\n",
    "\n",
    "\n"
   ]
  },
  {
   "cell_type": "markdown",
   "metadata": {},
   "source": [
    "### Propriedades das matrizes\n",
    "\n",
    "\n",
    "Para uma matriz $N\\times N$,   $\\mathbf{A}$ as seguintes propriedades são todas equivalentes\n",
    "\n",
    "  * Se a inversa de $\\mathbf{A}$ existe, $\\mathbf{A}$ é não singular.\n",
    "\n",
    "  * A equação  $\\mathbf{Ax}=0$ implica $\\mathbf{x}=0$.\n",
    "\n",
    "  * As filas de $\\mathbf{A}$ formam uma base de $R^N$.\n",
    "\n",
    "  * As colunas de $\\mathbf{A}$ formam uma base de $R^N$.\n",
    "\n",
    "  * $\\mathbf{A}$ é um produto de matrizes elementares.\n",
    "\n",
    "  * $0$ não é um autovalor de $\\mathbf{A}$."
   ]
  },
  {
   "cell_type": "markdown",
   "metadata": {},
   "source": [
    "### Operações matemáticas importantes com matrizes\n",
    "\n",
    "#### Soma e substração \n",
    "\n",
    "<!-- Equation labels as ordinary links -->\n",
    "<div id=\"eq:mtxadd\"></div>\n",
    "$$\n",
    "\\begin{equation}\n",
    "\\mathbf{A}= \\mathbf{B}\\pm\\mathbf{C}  \\Longrightarrow a_{ij} = b_{ij}\\pm c_{ij},\n",
    "\\label{eq:mtxadd} \\tag{1}\n",
    "\\end{equation}\n",
    "$$\n"
   ]
  },
  {
   "cell_type": "markdown",
   "metadata": {},
   "source": [
    "#### multiplicação escalar-matriz\n",
    "\n",
    "<!-- Equation labels as ordinary links -->\n",
    "<div id=\"_auto1\"></div>\n",
    "$$\n",
    "\\begin{equation}\n",
    "\\mathbf{A}= \\gamma\\mathbf{B}  \\Longrightarrow a_{ij} = \\gamma b_{ij},\n",
    "\\label{_auto1} \\tag{2}\n",
    "\\end{equation}\n",
    "$$"
   ]
  },
  {
   "cell_type": "markdown",
   "metadata": {},
   "source": [
    "#### Multiplicação vetor-matriz\n",
    "\n",
    "<!-- Equation labels as ordinary links -->\n",
    "<div id=\"eq:vecmtx\"></div>\n",
    "\n",
    "$$\n",
    "\\begin{equation}\n",
    "\\mathbf{y}=\\mathbf{Ax}   \\Longrightarrow y_{i} = \\sum_{j=1}^{n} a_{ij}x_j,\n",
    "\\label{eq:vecmtx} \\tag{3}\n",
    "\\end{equation}\n",
    "$$"
   ]
  },
  {
   "cell_type": "markdown",
   "metadata": {},
   "source": [
    "#### Multiplicação Matriz-Matriz\n",
    "\n",
    "<!-- Equation labels as ordinary links -->\n",
    "<div id=\"eq:mtxmtx\"></div>\n",
    "$$\n",
    "\\begin{equation}\n",
    "\\mathbf{A}=\\mathbf{BC}   \\Longrightarrow a_{ij} = \\sum_{k=1}^{n} b_{ik}c_{kj},\n",
    "\\label{eq:mtxmtx} \\tag{4}\n",
    "\\end{equation}\n",
    "$$"
   ]
  },
  {
   "cell_type": "markdown",
   "metadata": {},
   "source": [
    "#### Transposição\n",
    "\n",
    "<!-- Equation labels as ordinary links -->\n",
    "<div id=\"_auto2\"></div>\n",
    "\n",
    "$$\n",
    "\\begin{equation}\n",
    "\\mathbf{A}=\\mathbf{B}^T   \\Longrightarrow a_{ij} = b_{ji}\n",
    "\\label{_auto2} \\tag{5}\n",
    "\\end{equation}\n",
    "$$"
   ]
  },
  {
   "cell_type": "markdown",
   "metadata": {},
   "source": [
    "### Operações matemáticas importantes com vetores\n",
    "\n",
    "#### soma e substração\n",
    "\n",
    "<!-- Equation labels as ordinary links -->\n",
    "<div id=\"_auto3\"></div>\n",
    "\n",
    "$$\n",
    "\\begin{equation}\n",
    "\\mathbf{x}= \\mathbf{y}\\pm\\mathbf{z}  \\Longrightarrow x_{i} = y_{i}\\pm z_{i},\n",
    "\\label{_auto3} \\tag{6}\n",
    "\\end{equation}\n",
    "$$"
   ]
  },
  {
   "cell_type": "markdown",
   "metadata": {},
   "source": [
    "#### Multiplicação escalar-vetor\n",
    "\n",
    "<!-- Equation labels as ordinary links -->\n",
    "<div id=\"_auto4\"></div>\n",
    "\n",
    "$$\n",
    "\\begin{equation}\n",
    "\\mathbf{x}= \\gamma\\mathbf{y}  \\Longrightarrow x_{i} = \\gamma y_{i},\n",
    "\\label{_auto4} \\tag{7}\n",
    "\\end{equation}\n",
    "$$"
   ]
  },
  {
   "cell_type": "markdown",
   "metadata": {},
   "source": [
    "#### Multiplicação vetor-vetor (multiplicação de Hadamard)\n",
    "\n",
    "*note que o resultado é um vetor*\n",
    "\n",
    "<!-- Equation labels as ordinary links -->\n",
    "<div id=\"_auto5\"></div>\n",
    "\n",
    "$$\n",
    "\\begin{equation}\n",
    "\\mathbf{x}=\\mathbf{yz}   \\Longrightarrow x_{i} = y_{i}z_i,\n",
    "\\label{_auto5} \\tag{8}\n",
    "\\end{equation}\n",
    "$$"
   ]
  },
  {
   "cell_type": "markdown",
   "metadata": {},
   "source": [
    "#### Produto interno ou produto escalar\n",
    "\n",
    "*o resultado é um escalar*\n",
    "\n",
    "<!-- Equation labels as ordinary links -->\n",
    "<div id=\"eq:innerprod\"></div>\n",
    "\n",
    "$$\n",
    "\\begin{equation}\n",
    "x=\\mathbf{y}^T\\mathbf{z}   \\Longrightarrow x = \\sum_{j=1}^{n} y_{j}z_{j},\n",
    "\\label{eq:innerprod} \\tag{9}\n",
    "\\end{equation}\n",
    "$$"
   ]
  },
  {
   "cell_type": "markdown",
   "metadata": {},
   "source": [
    "#### Produto externo\n",
    "\n",
    "*cujo resultado é uma matriz* \n",
    "\n",
    "<!-- Equation labels as ordinary links -->\n",
    "<div id=\"eq:outerprod\"></div>\n",
    "\n",
    "$$\n",
    "\\begin{equation}\n",
    "\\mathbf{A}=  \\mathbf{yz}^T \\Longrightarrow  a_{ij} = y_{i}z_{j},\n",
    "\\label{eq:outerprod} \\tag{10}\n",
    "\\end{equation}\n",
    "$$"
   ]
  },
  {
   "cell_type": "markdown",
   "metadata": {},
   "source": [
    "#### Norma de um vetor \n",
    "\n",
    "<!-- Equation labels as ordinary links -->\n",
    "<div id=\"eq:norm\"></div>\n",
    "$$\n",
    "\\begin{equation}\n",
    "|| {\\bf x} ||_p = (|x_1|^p + |x_2|^p + ... + |x_n|^p )^{1/p} \n",
    "\\label{eq:norm} \\tag{11}\n",
    "\\end{equation}\n",
    "$$"
   ]
  },
  {
   "cell_type": "markdown",
   "metadata": {},
   "source": [
    "#### Relação de Cauchy-Schwartz \n",
    "\n",
    "para todo ${\\bf x}$ real ou complexo, o produto interno satisfaz:\n",
    "\n",
    "$$\n",
    "\\begin{equation}\n",
    "|{\\bf x}^T {\\bf y}| \\le ||x||_2 ||y||_2\n",
    "\\label{eq:cauchy1} \\tag{12}\n",
    "\\end{equation}\n",
    "$$\n",
    "\n",
    "a partir da qual temos que para todos ${\\bf x}$ e ${\\bf y}$, o produto escalar satisfaz \n",
    "\n",
    "$$\n",
    "\\begin{equation}\n",
    "||{\\bf x} + {\\bf y}|| \\le ||x||_2 + ||y||_2\n",
    "\\label{eq:cauchy2} \\tag{13}\n",
    "\\end{equation}\n",
    "$$.\n"
   ]
  },
  {
   "cell_type": "markdown",
   "metadata": {},
   "source": [
    "### Declaração de matrices \n",
    "\n",
    "Em `numpy` declaramos as matrices como arrays multidimensionais:\n"
   ]
  },
  {
   "cell_type": "code",
   "execution_count": 1,
   "metadata": {},
   "outputs": [],
   "source": [
    "import numpy as np"
   ]
  },
  {
   "cell_type": "code",
   "execution_count": 20,
   "metadata": {},
   "outputs": [
    {
     "data": {
      "text/plain": [
       "array([[1, 3, 4],\n",
       "       [3, 4, 6],\n",
       "       [4, 6, 8]])"
      ]
     },
     "execution_count": 20,
     "metadata": {},
     "output_type": "execute_result"
    }
   ],
   "source": [
    "A = np.array([[1,3,4],[3,4,6],[4,6,8]])\n",
    "A"
   ]
  },
  {
   "cell_type": "code",
   "execution_count": 10,
   "metadata": {},
   "outputs": [
    {
     "data": {
      "text/plain": [
       "array([2, 4, 6])"
      ]
     },
     "execution_count": 10,
     "metadata": {},
     "output_type": "execute_result"
    }
   ],
   "source": [
    "B = np.array([2,4,6])\n",
    "B"
   ]
  },
  {
   "cell_type": "code",
   "execution_count": 15,
   "metadata": {},
   "outputs": [
    {
     "data": {
      "text/plain": [
       "array([ 28,  64, 100])"
      ]
     },
     "execution_count": 15,
     "metadata": {},
     "output_type": "execute_result"
    }
   ],
   "source": [
    "A.dot(B)"
   ]
  },
  {
   "cell_type": "markdown",
   "metadata": {},
   "source": [
    "Devemos ser cuidadosos ao trabalhar com matrices em Python, pois Python, assim como C e C++, organiza as matrices na memoria considerando primeiro as filas (*row major*). Fortran organiza as matrices começando pelas colunas (*column major*). \n",
    "\n",
    "As figuras seguintes ilustram ambos esquemas:\n",
    "\n",
    "\n",
    "<img src=\"Figs/decl-both2.png\" width=80% >\n",
    "<img src=\"Figs/decl-both.png\" width=80% >"
   ]
  },
  {
   "cell_type": "markdown",
   "metadata": {},
   "source": [
    "## Atividade\n",
    "\n",
    "1. Vamos agora usar a equação (4) para multiplicar duas matrices. Começamos com duas matrices pequenas, a matriz A definida acima, e a matriz C:"
   ]
  },
  {
   "cell_type": "code",
   "execution_count": null,
   "metadata": {},
   "outputs": [],
   "source": [
    "C = np.array([[-1,  0,  0.5],[0, -2,  1.5],[ 0.5,  1.5, -1.25]])\n",
    "C"
   ]
  },
  {
   "cell_type": "markdown",
   "metadata": {},
   "source": [
    "2. Quando verificarmos que nossa rotina funciona, vamos fazer operações computacionalmente mais exigentes, vamos criar matrizes $n \\times n$ com $n = 100$. \n",
    "\n",
    "3. Utilizando o módulo `time` vamos comparar a velocidade da função criada por vcs com as rotinas do numpy `matmul` e `dot`. Grafique o tempo usado por cada rotina como função de $n$, para $n=10,100,1000,10000$.\n",
    "\n",
    "4. Escreva suas conclusões"
   ]
  },
  {
   "cell_type": "code",
   "execution_count": 8,
   "metadata": {},
   "outputs": [
    {
     "name": "stdout",
     "output_type": "stream",
     "text": [
      "tempo usado =  0.01886749267578125\n"
     ]
    }
   ],
   "source": [
    "import time\n",
    "\n",
    "n = 1000\n",
    "s = 1./np.sqrt(float(n))\n",
    "a1 = np.zeros([n,n])\n",
    "\n",
    "for i in range(n):\n",
    "    for j in range(n):\n",
    "        angulo = 2.*np.pi*(i-1)*(j-1)/float(n)\n",
    "        a1[i,j] = s * (np.sin(angulo) + np.cos(angulo))\n",
    "        \n",
    "b1 = np.copy(a1)\n",
    "t = time.time()\n",
    "c1 = np.matmul(a1,b1)\n",
    "t = time.time() - t\n",
    "print('tempo usado = ', t)"
   ]
  },
  {
   "cell_type": "code",
   "execution_count": 6,
   "metadata": {},
   "outputs": [
    {
     "name": "stdout",
     "output_type": "stream",
     "text": [
      "tempo usado =  0.028328418731689453\n"
     ]
    }
   ],
   "source": [
    "t = time.time()\n",
    "d1 = np.dot(a1,b1)\n",
    "t = time.time() - t\n",
    "print('tempo usado = ', t)"
   ]
  },
  {
   "cell_type": "code",
   "execution_count": null,
   "metadata": {},
   "outputs": [],
   "source": []
  }
 ],
 "metadata": {
  "kernelspec": {
   "display_name": "Python 3",
   "language": "python",
   "name": "python3"
  },
  "language_info": {
   "codemirror_mode": {
    "name": "ipython",
    "version": 3
   },
   "file_extension": ".py",
   "mimetype": "text/x-python",
   "name": "python",
   "nbconvert_exporter": "python",
   "pygments_lexer": "ipython3",
   "version": "3.5.3"
  }
 },
 "nbformat": 4,
 "nbformat_minor": 2
}
