{
 "cells": [
  {
   "cell_type": "markdown",
   "metadata": {},
   "source": [
    "# Introdução a Python 2\n",
    "\n",
    "Gustavo Guerrero  \n",
    "guerrero@fisica.ufmg.br  \n",
    "Sala 4120\n",
    "\n",
    "Aulas baseadas em:\n",
    "1. [Scientific Computing with Python](https://github.com/jrjohansson/scientific-python-lectures)\n",
    "2. [Scipy Lecture Notes](https://www.scipy-lectures.org/)"
   ]
  },
  {
   "cell_type": "markdown",
   "metadata": {},
   "source": [
    "## *Aplicação*: o circuito RLC\n",
    "\n",
    "Em circuitos elétricos com correntes e voltagens que oscilam com fases, $\\theta$\n",
    "diferentes, trabalhar com funções trigonométricas pode ser dificil.\n",
    "No entanto podemos trabalhar com funções do tipo, $e^{i\\omega t}$, que são\n",
    "faceis de manipular. Teremos que lembrar que a voltagem e a corrente correspondem\n",
    "à parte real dessas funções.\n",
    "\n",
    "<img src=\"Figs/rlc.png\" width=40% >  \n",
    "\n",
    "A equação que descreve a corrente no circuito é:\n",
    "\n",
    "\\begin{equation}\n",
    "\\frac{dV}{dt} = R \\frac{dI}{dt} + L \\frac{d^2I}{dt^2} + \\frac{I}{C}\n",
    "\\end{equation}\n",
    "\n",
    "\n",
    "Considerando, $V=V_0 e^{i\\omega t}$ e assumindo um resultado da forma $I=I_0 e^{i\\omega t}$ obtemos:\n",
    "\n",
    "<img src=\"Figs/rlc_eqs.png\" width=50% >  \n",
    "\n",
    "Para um determinado valor de indutância, $L=1000$ Henry, e de Capacitancia, $C=1/1000$ Faradios, vamos a utilizar nossa classe *Complex* para calcular a corrente e a fase da corrente para resistências entre $0$ e $1000 \\Omega$, e frequências $w$ entre $0$ e $2$ Hz. "
   ]
  },
  {
   "cell_type": "code",
   "execution_count": null,
   "metadata": {},
   "outputs": [],
   "source": []
  }
 ],
 "metadata": {
  "kernelspec": {
   "display_name": "Python 3",
   "language": "python",
   "name": "python3"
  },
  "language_info": {
   "codemirror_mode": {
    "name": "ipython",
    "version": 3
   },
   "file_extension": ".py",
   "mimetype": "text/x-python",
   "name": "python",
   "nbconvert_exporter": "python",
   "pygments_lexer": "ipython3",
   "version": "3.5.2"
  }
 },
 "nbformat": 4,
 "nbformat_minor": 2
}
